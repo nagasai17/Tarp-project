{
  "nbformat": 4,
  "nbformat_minor": 0,
  "metadata": {
    "colab": {
      "name": "Untitled2.ipynb",
      "provenance": [],
      "toc_visible": true,
      "authorship_tag": "ABX9TyPzLQ3MwOLPck2/VDanN51p",
      "include_colab_link": true
    },
    "kernelspec": {
      "name": "python3",
      "display_name": "Python 3"
    }
  },
  "cells": [
    {
      "cell_type": "markdown",
      "metadata": {
        "id": "view-in-github",
        "colab_type": "text"
      },
      "source": [
        "<a href=\"https://colab.research.google.com/github/nagasai17/Tarp-project/blob/master/review2.ipynb\" target=\"_parent\"><img src=\"https://colab.research.google.com/assets/colab-badge.svg\" alt=\"Open In Colab\"/></a>"
      ]
    },
    {
      "cell_type": "code",
      "metadata": {
        "id": "0MVB3GmFGrhi",
        "colab_type": "code",
        "colab": {
          "base_uri": "https://localhost:8080/",
          "height": 423
        },
        "outputId": "a1ad3ddc-2459-45ad-8011-82df76ac137d"
      },
      "source": [
        "import pandas as pd\n",
        "data=pd.read_excel('/content/New Microsoft Excel Worksheet.xlsx')\n",
        "from sklearn.model_selection import train_test_split\n",
        "from sklearn.tree import DecisionTreeClassifier\n",
        "from sklearn import metrics\n",
        "from sklearn.preprocessing import LabelEncoder\n",
        "data\n"
      ],
      "execution_count": 3,
      "outputs": [
        {
          "output_type": "execute_result",
          "data": {
            "text/html": [
              "<div>\n",
              "<style scoped>\n",
              "    .dataframe tbody tr th:only-of-type {\n",
              "        vertical-align: middle;\n",
              "    }\n",
              "\n",
              "    .dataframe tbody tr th {\n",
              "        vertical-align: top;\n",
              "    }\n",
              "\n",
              "    .dataframe thead th {\n",
              "        text-align: right;\n",
              "    }\n",
              "</style>\n",
              "<table border=\"1\" class=\"dataframe\">\n",
              "  <thead>\n",
              "    <tr style=\"text-align: right;\">\n",
              "      <th></th>\n",
              "      <th>NAME</th>\n",
              "      <th>Age</th>\n",
              "      <th>Highest Degree</th>\n",
              "      <th>English</th>\n",
              "      <th>Coding</th>\n",
              "      <th>Art</th>\n",
              "      <th>Accounting ability</th>\n",
              "      <th>known service based abilities</th>\n",
              "      <th>negotiations</th>\n",
              "      <th>Design and planning</th>\n",
              "      <th>Sector</th>\n",
              "    </tr>\n",
              "  </thead>\n",
              "  <tbody>\n",
              "    <tr>\n",
              "      <th>0</th>\n",
              "      <td>naga</td>\n",
              "      <td>20</td>\n",
              "      <td>MBBS</td>\n",
              "      <td>YES</td>\n",
              "      <td>NO</td>\n",
              "      <td>YES</td>\n",
              "      <td>NO</td>\n",
              "      <td>YES</td>\n",
              "      <td>NO</td>\n",
              "      <td>NO</td>\n",
              "      <td>Health</td>\n",
              "    </tr>\n",
              "    <tr>\n",
              "      <th>1</th>\n",
              "      <td>hari</td>\n",
              "      <td>22</td>\n",
              "      <td>BTECH</td>\n",
              "      <td>YES</td>\n",
              "      <td>YES</td>\n",
              "      <td>NO</td>\n",
              "      <td>NO</td>\n",
              "      <td>YES</td>\n",
              "      <td>NO</td>\n",
              "      <td>NO</td>\n",
              "      <td>IT</td>\n",
              "    </tr>\n",
              "    <tr>\n",
              "      <th>2</th>\n",
              "      <td>teja</td>\n",
              "      <td>23</td>\n",
              "      <td>MBBS</td>\n",
              "      <td>YES</td>\n",
              "      <td>NO</td>\n",
              "      <td>NO</td>\n",
              "      <td>NO</td>\n",
              "      <td>YES</td>\n",
              "      <td>NO</td>\n",
              "      <td>NO</td>\n",
              "      <td>Health</td>\n",
              "    </tr>\n",
              "    <tr>\n",
              "      <th>3</th>\n",
              "      <td>ravi</td>\n",
              "      <td>21</td>\n",
              "      <td>12th</td>\n",
              "      <td>YES</td>\n",
              "      <td>NO</td>\n",
              "      <td>YES</td>\n",
              "      <td>NO</td>\n",
              "      <td>YES</td>\n",
              "      <td>NO</td>\n",
              "      <td>NO</td>\n",
              "      <td>ARTS</td>\n",
              "    </tr>\n",
              "    <tr>\n",
              "      <th>4</th>\n",
              "      <td>hrithik</td>\n",
              "      <td>20</td>\n",
              "      <td>11th</td>\n",
              "      <td>NO</td>\n",
              "      <td>NO</td>\n",
              "      <td>YES</td>\n",
              "      <td>NO</td>\n",
              "      <td>NO</td>\n",
              "      <td>NO</td>\n",
              "      <td>NO</td>\n",
              "      <td>ARTS</td>\n",
              "    </tr>\n",
              "    <tr>\n",
              "      <th>...</th>\n",
              "      <td>...</td>\n",
              "      <td>...</td>\n",
              "      <td>...</td>\n",
              "      <td>...</td>\n",
              "      <td>...</td>\n",
              "      <td>...</td>\n",
              "      <td>...</td>\n",
              "      <td>...</td>\n",
              "      <td>...</td>\n",
              "      <td>...</td>\n",
              "      <td>...</td>\n",
              "    </tr>\n",
              "    <tr>\n",
              "      <th>104</th>\n",
              "      <td>kule</td>\n",
              "      <td>12</td>\n",
              "      <td>BTECH</td>\n",
              "      <td>YES</td>\n",
              "      <td>YES</td>\n",
              "      <td>NO</td>\n",
              "      <td>NO</td>\n",
              "      <td>NO</td>\n",
              "      <td>NO</td>\n",
              "      <td>NO</td>\n",
              "      <td>IT</td>\n",
              "    </tr>\n",
              "    <tr>\n",
              "      <th>105</th>\n",
              "      <td>max</td>\n",
              "      <td>23</td>\n",
              "      <td>BCOM</td>\n",
              "      <td>YES</td>\n",
              "      <td>NO</td>\n",
              "      <td>NO</td>\n",
              "      <td>YES</td>\n",
              "      <td>YES</td>\n",
              "      <td>NO</td>\n",
              "      <td>NO</td>\n",
              "      <td>FINANCE</td>\n",
              "    </tr>\n",
              "    <tr>\n",
              "      <th>106</th>\n",
              "      <td>mas</td>\n",
              "      <td>24</td>\n",
              "      <td>BCOM</td>\n",
              "      <td>YES</td>\n",
              "      <td>NO</td>\n",
              "      <td>NO</td>\n",
              "      <td>YES</td>\n",
              "      <td>NO</td>\n",
              "      <td>NO</td>\n",
              "      <td>NO</td>\n",
              "      <td>FINANCE</td>\n",
              "    </tr>\n",
              "    <tr>\n",
              "      <th>107</th>\n",
              "      <td>asa</td>\n",
              "      <td>42</td>\n",
              "      <td>10th</td>\n",
              "      <td>YES</td>\n",
              "      <td>NO</td>\n",
              "      <td>NO</td>\n",
              "      <td>NO</td>\n",
              "      <td>YES</td>\n",
              "      <td>YES</td>\n",
              "      <td>YES</td>\n",
              "      <td>MANUFACTURE</td>\n",
              "    </tr>\n",
              "    <tr>\n",
              "      <th>108</th>\n",
              "      <td>james</td>\n",
              "      <td>43</td>\n",
              "      <td>10th</td>\n",
              "      <td>NO</td>\n",
              "      <td>NO</td>\n",
              "      <td>NO</td>\n",
              "      <td>NO</td>\n",
              "      <td>NO</td>\n",
              "      <td>YES</td>\n",
              "      <td>YES</td>\n",
              "      <td>MANUFACTURE</td>\n",
              "    </tr>\n",
              "  </tbody>\n",
              "</table>\n",
              "<p>109 rows × 11 columns</p>\n",
              "</div>"
            ],
            "text/plain": [
              "        NAME  Age Highest Degree  ... negotiations Design and planning       Sector\n",
              "0       naga   20           MBBS  ...           NO                  NO       Health\n",
              "1       hari   22          BTECH  ...           NO                  NO           IT\n",
              "2       teja   23           MBBS  ...           NO                  NO       Health\n",
              "3       ravi   21           12th  ...           NO                  NO         ARTS\n",
              "4    hrithik   20           11th  ...           NO                  NO         ARTS\n",
              "..       ...  ...            ...  ...          ...                 ...          ...\n",
              "104     kule   12          BTECH  ...           NO                  NO           IT\n",
              "105      max   23           BCOM  ...           NO                  NO      FINANCE\n",
              "106      mas   24           BCOM  ...           NO                  NO      FINANCE\n",
              "107      asa   42           10th  ...          YES                 YES  MANUFACTURE\n",
              "108    james   43           10th  ...          YES                 YES  MANUFACTURE\n",
              "\n",
              "[109 rows x 11 columns]"
            ]
          },
          "metadata": {
            "tags": []
          },
          "execution_count": 3
        }
      ]
    },
    {
      "cell_type": "markdown",
      "metadata": {
        "id": "dPEk0zmeyBrZ",
        "colab_type": "text"
      },
      "source": [
        "Encoding means coverting all categorical to Numerical"
      ]
    },
    {
      "cell_type": "code",
      "metadata": {
        "id": "hqC1pWJrpkXP",
        "colab_type": "code",
        "colab": {
          "base_uri": "https://localhost:8080/",
          "height": 347
        },
        "outputId": "4f8ec5cd-3b38-4c10-98c2-8ee247a264c1"
      },
      "source": [
        "\n",
        "# Categorical boolean mask\n",
        "categorical_feature_mask = data.dtypes==object\n",
        "# filter categorical columns using mask and turn it into a list\n",
        "categorical_cols = data.columns[categorical_feature_mask].tolist()\n",
        "le = LabelEncoder()\n",
        "data[categorical_cols] = data[categorical_cols].apply(lambda col: le.fit_transform(col))\n",
        "data[categorical_cols].head(10)\n",
        "\n"
      ],
      "execution_count": 4,
      "outputs": [
        {
          "output_type": "execute_result",
          "data": {
            "text/html": [
              "<div>\n",
              "<style scoped>\n",
              "    .dataframe tbody tr th:only-of-type {\n",
              "        vertical-align: middle;\n",
              "    }\n",
              "\n",
              "    .dataframe tbody tr th {\n",
              "        vertical-align: top;\n",
              "    }\n",
              "\n",
              "    .dataframe thead th {\n",
              "        text-align: right;\n",
              "    }\n",
              "</style>\n",
              "<table border=\"1\" class=\"dataframe\">\n",
              "  <thead>\n",
              "    <tr style=\"text-align: right;\">\n",
              "      <th></th>\n",
              "      <th>NAME</th>\n",
              "      <th>Highest Degree</th>\n",
              "      <th>English</th>\n",
              "      <th>Coding</th>\n",
              "      <th>Art</th>\n",
              "      <th>Accounting ability</th>\n",
              "      <th>known service based abilities</th>\n",
              "      <th>negotiations</th>\n",
              "      <th>Design and planning</th>\n",
              "      <th>Sector</th>\n",
              "    </tr>\n",
              "  </thead>\n",
              "  <tbody>\n",
              "    <tr>\n",
              "      <th>0</th>\n",
              "      <td>58</td>\n",
              "      <td>5</td>\n",
              "      <td>1</td>\n",
              "      <td>0</td>\n",
              "      <td>1</td>\n",
              "      <td>0</td>\n",
              "      <td>1</td>\n",
              "      <td>0</td>\n",
              "      <td>0</td>\n",
              "      <td>3</td>\n",
              "    </tr>\n",
              "    <tr>\n",
              "      <th>1</th>\n",
              "      <td>21</td>\n",
              "      <td>4</td>\n",
              "      <td>1</td>\n",
              "      <td>1</td>\n",
              "      <td>0</td>\n",
              "      <td>0</td>\n",
              "      <td>1</td>\n",
              "      <td>0</td>\n",
              "      <td>0</td>\n",
              "      <td>4</td>\n",
              "    </tr>\n",
              "    <tr>\n",
              "      <th>2</th>\n",
              "      <td>100</td>\n",
              "      <td>5</td>\n",
              "      <td>1</td>\n",
              "      <td>0</td>\n",
              "      <td>0</td>\n",
              "      <td>0</td>\n",
              "      <td>1</td>\n",
              "      <td>0</td>\n",
              "      <td>0</td>\n",
              "      <td>3</td>\n",
              "    </tr>\n",
              "    <tr>\n",
              "      <th>3</th>\n",
              "      <td>79</td>\n",
              "      <td>2</td>\n",
              "      <td>1</td>\n",
              "      <td>0</td>\n",
              "      <td>1</td>\n",
              "      <td>0</td>\n",
              "      <td>1</td>\n",
              "      <td>0</td>\n",
              "      <td>0</td>\n",
              "      <td>0</td>\n",
              "    </tr>\n",
              "    <tr>\n",
              "      <th>4</th>\n",
              "      <td>25</td>\n",
              "      <td>1</td>\n",
              "      <td>0</td>\n",
              "      <td>0</td>\n",
              "      <td>1</td>\n",
              "      <td>0</td>\n",
              "      <td>0</td>\n",
              "      <td>0</td>\n",
              "      <td>0</td>\n",
              "      <td>0</td>\n",
              "    </tr>\n",
              "    <tr>\n",
              "      <th>5</th>\n",
              "      <td>2</td>\n",
              "      <td>5</td>\n",
              "      <td>1</td>\n",
              "      <td>0</td>\n",
              "      <td>1</td>\n",
              "      <td>0</td>\n",
              "      <td>1</td>\n",
              "      <td>0</td>\n",
              "      <td>0</td>\n",
              "      <td>3</td>\n",
              "    </tr>\n",
              "    <tr>\n",
              "      <th>6</th>\n",
              "      <td>72</td>\n",
              "      <td>4</td>\n",
              "      <td>1</td>\n",
              "      <td>0</td>\n",
              "      <td>0</td>\n",
              "      <td>0</td>\n",
              "      <td>1</td>\n",
              "      <td>1</td>\n",
              "      <td>1</td>\n",
              "      <td>5</td>\n",
              "    </tr>\n",
              "    <tr>\n",
              "      <th>7</th>\n",
              "      <td>53</td>\n",
              "      <td>4</td>\n",
              "      <td>1</td>\n",
              "      <td>0</td>\n",
              "      <td>0</td>\n",
              "      <td>1</td>\n",
              "      <td>1</td>\n",
              "      <td>0</td>\n",
              "      <td>0</td>\n",
              "      <td>2</td>\n",
              "    </tr>\n",
              "    <tr>\n",
              "      <th>8</th>\n",
              "      <td>90</td>\n",
              "      <td>5</td>\n",
              "      <td>1</td>\n",
              "      <td>0</td>\n",
              "      <td>0</td>\n",
              "      <td>0</td>\n",
              "      <td>0</td>\n",
              "      <td>0</td>\n",
              "      <td>0</td>\n",
              "      <td>3</td>\n",
              "    </tr>\n",
              "    <tr>\n",
              "      <th>9</th>\n",
              "      <td>67</td>\n",
              "      <td>4</td>\n",
              "      <td>0</td>\n",
              "      <td>0</td>\n",
              "      <td>0</td>\n",
              "      <td>0</td>\n",
              "      <td>0</td>\n",
              "      <td>1</td>\n",
              "      <td>1</td>\n",
              "      <td>5</td>\n",
              "    </tr>\n",
              "  </tbody>\n",
              "</table>\n",
              "</div>"
            ],
            "text/plain": [
              "   NAME  Highest Degree  English   ...  negotiations  Design and planning  Sector\n",
              "0    58               5         1  ...             0                    0       3\n",
              "1    21               4         1  ...             0                    0       4\n",
              "2   100               5         1  ...             0                    0       3\n",
              "3    79               2         1  ...             0                    0       0\n",
              "4    25               1         0  ...             0                    0       0\n",
              "5     2               5         1  ...             0                    0       3\n",
              "6    72               4         1  ...             1                    1       5\n",
              "7    53               4         1  ...             0                    0       2\n",
              "8    90               5         1  ...             0                    0       3\n",
              "9    67               4         0  ...             1                    1       5\n",
              "\n",
              "[10 rows x 10 columns]"
            ]
          },
          "metadata": {
            "tags": []
          },
          "execution_count": 4
        }
      ]
    },
    {
      "cell_type": "markdown",
      "metadata": {
        "id": "PHv0im41wH4C",
        "colab_type": "text"
      },
      "source": [
        "One hot encoder\n"
      ]
    },
    {
      "cell_type": "code",
      "metadata": {
        "id": "n1YpxNRzv_zd",
        "colab_type": "code",
        "colab": {}
      },
      "source": [
        ""
      ],
      "execution_count": null,
      "outputs": []
    },
    {
      "cell_type": "code",
      "metadata": {
        "id": "UH3XipGvvoEJ",
        "colab_type": "code",
        "colab": {
          "base_uri": "https://localhost:8080/",
          "height": 478
        },
        "outputId": "4427a7c8-b36a-4a69-afe9-f0caaad48cbd"
      },
      "source": [
        "X = data[data.columns[2:-1]] \n",
        "y = data[data.columns[-1]] \n",
        "print(X)\n",
        "print(y)"
      ],
      "execution_count": 5,
      "outputs": [
        {
          "output_type": "stream",
          "text": [
            "     Highest Degree  English   ...  negotiations  Design and planning\n",
            "0                 5         1  ...             0                    0\n",
            "1                 4         1  ...             0                    0\n",
            "2                 5         1  ...             0                    0\n",
            "3                 2         1  ...             0                    0\n",
            "4                 1         0  ...             0                    0\n",
            "..              ...       ...  ...           ...                  ...\n",
            "104               4         1  ...             0                    0\n",
            "105               3         1  ...             0                    0\n",
            "106               3         1  ...             0                    0\n",
            "107               0         1  ...             1                    1\n",
            "108               0         0  ...             1                    1\n",
            "\n",
            "[109 rows x 8 columns]\n",
            "0      3\n",
            "1      4\n",
            "2      3\n",
            "3      0\n",
            "4      0\n",
            "      ..\n",
            "104    4\n",
            "105    2\n",
            "106    2\n",
            "107    5\n",
            "108    5\n",
            "Name: Sector, Length: 109, dtype: int64\n"
          ],
          "name": "stdout"
        }
      ]
    },
    {
      "cell_type": "markdown",
      "metadata": {
        "id": "4rwNJ6Mvp9X9",
        "colab_type": "text"
      },
      "source": [
        "splitting our data set\n"
      ]
    },
    {
      "cell_type": "code",
      "metadata": {
        "id": "Ef31pl7lqB8Z",
        "colab_type": "code",
        "colab": {
          "base_uri": "https://localhost:8080/",
          "height": 301
        },
        "outputId": "011d713e-4942-4979-9626-1eee1be2c9a3"
      },
      "source": [
        "X_train, X_test, y_train, y_test = train_test_split(X, y, test_size=0.4, random_state=1)\n",
        "print(X_train.shape)\n",
        "print(X_test.shape)\n",
        "print(y_train.shape)\n",
        "print(y_test.shape)\n",
        "y"
      ],
      "execution_count": 15,
      "outputs": [
        {
          "output_type": "stream",
          "text": [
            "(65, 8)\n",
            "(44, 8)\n",
            "(65,)\n",
            "(44,)\n"
          ],
          "name": "stdout"
        },
        {
          "output_type": "execute_result",
          "data": {
            "text/plain": [
              "0      3\n",
              "1      4\n",
              "2      3\n",
              "3      0\n",
              "4      0\n",
              "      ..\n",
              "104    4\n",
              "105    2\n",
              "106    2\n",
              "107    5\n",
              "108    5\n",
              "Name: Sector, Length: 109, dtype: int64"
            ]
          },
          "metadata": {
            "tags": []
          },
          "execution_count": 15
        }
      ]
    },
    {
      "cell_type": "markdown",
      "metadata": {
        "id": "e0msIllar_N3",
        "colab_type": "text"
      },
      "source": [
        "Encoding\n",
        "\n"
      ]
    },
    {
      "cell_type": "code",
      "metadata": {
        "id": "QF9KBP2RsBDe",
        "colab_type": "code",
        "colab": {
          "base_uri": "https://localhost:8080/",
          "height": 587
        },
        "outputId": "56efc85c-9afa-489a-f4f8-b06d732b236d"
      },
      "source": [
        ""
      ],
      "execution_count": null,
      "outputs": [
        {
          "output_type": "execute_result",
          "data": {
            "text/html": [
              "<div>\n",
              "<style scoped>\n",
              "    .dataframe tbody tr th:only-of-type {\n",
              "        vertical-align: middle;\n",
              "    }\n",
              "\n",
              "    .dataframe tbody tr th {\n",
              "        vertical-align: top;\n",
              "    }\n",
              "\n",
              "    .dataframe thead th {\n",
              "        text-align: right;\n",
              "    }\n",
              "</style>\n",
              "<table border=\"1\" class=\"dataframe\">\n",
              "  <thead>\n",
              "    <tr style=\"text-align: right;\">\n",
              "      <th></th>\n",
              "      <th>Highest Degree</th>\n",
              "      <th>English</th>\n",
              "      <th>Coding</th>\n",
              "      <th>Art</th>\n",
              "      <th>Accounting ability</th>\n",
              "      <th>known service based abilities</th>\n",
              "      <th>negotiations</th>\n",
              "      <th>Design and planning</th>\n",
              "    </tr>\n",
              "  </thead>\n",
              "  <tbody>\n",
              "    <tr>\n",
              "      <th>0</th>\n",
              "      <td>4</td>\n",
              "      <td>1</td>\n",
              "      <td>0</td>\n",
              "      <td>1</td>\n",
              "      <td>0</td>\n",
              "      <td>1</td>\n",
              "      <td>0</td>\n",
              "      <td>0</td>\n",
              "    </tr>\n",
              "    <tr>\n",
              "      <th>1</th>\n",
              "      <td>3</td>\n",
              "      <td>1</td>\n",
              "      <td>1</td>\n",
              "      <td>0</td>\n",
              "      <td>0</td>\n",
              "      <td>1</td>\n",
              "      <td>0</td>\n",
              "      <td>0</td>\n",
              "    </tr>\n",
              "    <tr>\n",
              "      <th>2</th>\n",
              "      <td>4</td>\n",
              "      <td>1</td>\n",
              "      <td>0</td>\n",
              "      <td>0</td>\n",
              "      <td>0</td>\n",
              "      <td>1</td>\n",
              "      <td>0</td>\n",
              "      <td>0</td>\n",
              "    </tr>\n",
              "    <tr>\n",
              "      <th>3</th>\n",
              "      <td>2</td>\n",
              "      <td>1</td>\n",
              "      <td>0</td>\n",
              "      <td>1</td>\n",
              "      <td>0</td>\n",
              "      <td>1</td>\n",
              "      <td>0</td>\n",
              "      <td>0</td>\n",
              "    </tr>\n",
              "    <tr>\n",
              "      <th>4</th>\n",
              "      <td>1</td>\n",
              "      <td>0</td>\n",
              "      <td>0</td>\n",
              "      <td>1</td>\n",
              "      <td>0</td>\n",
              "      <td>0</td>\n",
              "      <td>0</td>\n",
              "      <td>0</td>\n",
              "    </tr>\n",
              "    <tr>\n",
              "      <th>5</th>\n",
              "      <td>4</td>\n",
              "      <td>1</td>\n",
              "      <td>0</td>\n",
              "      <td>1</td>\n",
              "      <td>0</td>\n",
              "      <td>1</td>\n",
              "      <td>0</td>\n",
              "      <td>0</td>\n",
              "    </tr>\n",
              "    <tr>\n",
              "      <th>6</th>\n",
              "      <td>3</td>\n",
              "      <td>1</td>\n",
              "      <td>0</td>\n",
              "      <td>0</td>\n",
              "      <td>0</td>\n",
              "      <td>1</td>\n",
              "      <td>1</td>\n",
              "      <td>1</td>\n",
              "    </tr>\n",
              "    <tr>\n",
              "      <th>7</th>\n",
              "      <td>3</td>\n",
              "      <td>1</td>\n",
              "      <td>0</td>\n",
              "      <td>0</td>\n",
              "      <td>1</td>\n",
              "      <td>1</td>\n",
              "      <td>0</td>\n",
              "      <td>0</td>\n",
              "    </tr>\n",
              "    <tr>\n",
              "      <th>8</th>\n",
              "      <td>4</td>\n",
              "      <td>1</td>\n",
              "      <td>0</td>\n",
              "      <td>0</td>\n",
              "      <td>0</td>\n",
              "      <td>0</td>\n",
              "      <td>0</td>\n",
              "      <td>0</td>\n",
              "    </tr>\n",
              "    <tr>\n",
              "      <th>9</th>\n",
              "      <td>3</td>\n",
              "      <td>0</td>\n",
              "      <td>0</td>\n",
              "      <td>0</td>\n",
              "      <td>0</td>\n",
              "      <td>0</td>\n",
              "      <td>1</td>\n",
              "      <td>1</td>\n",
              "    </tr>\n",
              "    <tr>\n",
              "      <th>10</th>\n",
              "      <td>3</td>\n",
              "      <td>0</td>\n",
              "      <td>0</td>\n",
              "      <td>1</td>\n",
              "      <td>0</td>\n",
              "      <td>1</td>\n",
              "      <td>0</td>\n",
              "      <td>0</td>\n",
              "    </tr>\n",
              "    <tr>\n",
              "      <th>11</th>\n",
              "      <td>0</td>\n",
              "      <td>1</td>\n",
              "      <td>0</td>\n",
              "      <td>0</td>\n",
              "      <td>0</td>\n",
              "      <td>1</td>\n",
              "      <td>1</td>\n",
              "      <td>1</td>\n",
              "    </tr>\n",
              "    <tr>\n",
              "      <th>12</th>\n",
              "      <td>4</td>\n",
              "      <td>0</td>\n",
              "      <td>0</td>\n",
              "      <td>0</td>\n",
              "      <td>0</td>\n",
              "      <td>1</td>\n",
              "      <td>0</td>\n",
              "      <td>1</td>\n",
              "    </tr>\n",
              "    <tr>\n",
              "      <th>13</th>\n",
              "      <td>3</td>\n",
              "      <td>1</td>\n",
              "      <td>1</td>\n",
              "      <td>0</td>\n",
              "      <td>0</td>\n",
              "      <td>0</td>\n",
              "      <td>0</td>\n",
              "      <td>0</td>\n",
              "    </tr>\n",
              "    <tr>\n",
              "      <th>14</th>\n",
              "      <td>3</td>\n",
              "      <td>1</td>\n",
              "      <td>1</td>\n",
              "      <td>0</td>\n",
              "      <td>0</td>\n",
              "      <td>0</td>\n",
              "      <td>0</td>\n",
              "      <td>0</td>\n",
              "    </tr>\n",
              "    <tr>\n",
              "      <th>15</th>\n",
              "      <td>4</td>\n",
              "      <td>1</td>\n",
              "      <td>0</td>\n",
              "      <td>1</td>\n",
              "      <td>0</td>\n",
              "      <td>0</td>\n",
              "      <td>0</td>\n",
              "      <td>0</td>\n",
              "    </tr>\n",
              "    <tr>\n",
              "      <th>16</th>\n",
              "      <td>3</td>\n",
              "      <td>0</td>\n",
              "      <td>0</td>\n",
              "      <td>1</td>\n",
              "      <td>0</td>\n",
              "      <td>0</td>\n",
              "      <td>0</td>\n",
              "      <td>0</td>\n",
              "    </tr>\n",
              "    <tr>\n",
              "      <th>17</th>\n",
              "      <td>0</td>\n",
              "      <td>0</td>\n",
              "      <td>0</td>\n",
              "      <td>0</td>\n",
              "      <td>0</td>\n",
              "      <td>0</td>\n",
              "      <td>1</td>\n",
              "      <td>1</td>\n",
              "    </tr>\n",
              "  </tbody>\n",
              "</table>\n",
              "</div>"
            ],
            "text/plain": [
              "    Highest Degree  English   ...  negotiations  Design and planning\n",
              "0                4         1  ...             0                    0\n",
              "1                3         1  ...             0                    0\n",
              "2                4         1  ...             0                    0\n",
              "3                2         1  ...             0                    0\n",
              "4                1         0  ...             0                    0\n",
              "5                4         1  ...             0                    0\n",
              "6                3         1  ...             1                    1\n",
              "7                3         1  ...             0                    0\n",
              "8                4         1  ...             0                    0\n",
              "9                3         0  ...             1                    1\n",
              "10               3         0  ...             0                    0\n",
              "11               0         1  ...             1                    1\n",
              "12               4         0  ...             0                    1\n",
              "13               3         1  ...             0                    0\n",
              "14               3         1  ...             0                    0\n",
              "15               4         1  ...             0                    0\n",
              "16               3         0  ...             0                    0\n",
              "17               0         0  ...             1                    1\n",
              "\n",
              "[18 rows x 8 columns]"
            ]
          },
          "metadata": {
            "tags": []
          },
          "execution_count": 24
        }
      ]
    },
    {
      "cell_type": "markdown",
      "metadata": {
        "id": "DQOPfTkyqtEr",
        "colab_type": "text"
      },
      "source": [
        "Desicion Tree classifier\n"
      ]
    },
    {
      "cell_type": "code",
      "metadata": {
        "id": "Y1nBxqZ9qv24",
        "colab_type": "code",
        "colab": {}
      },
      "source": [
        "clf = DecisionTreeClassifier()\n",
        "\n",
        "# Train Decision Tree Classifer\n",
        "clf = clf.fit(X_train,y_train)\n",
        "\n",
        "#Predict the response for test dataset\n",
        "y_pred = clf.predict(X_test)"
      ],
      "execution_count": 16,
      "outputs": []
    },
    {
      "cell_type": "markdown",
      "metadata": {
        "id": "RMdQE9LVxHf9",
        "colab_type": "text"
      },
      "source": [
        "*accuracy* for Decision Tree Classifier "
      ]
    },
    {
      "cell_type": "code",
      "metadata": {
        "id": "nTDSTNpPr451",
        "colab_type": "code",
        "colab": {
          "base_uri": "https://localhost:8080/",
          "height": 70
        },
        "outputId": "65ad385a-fe25-4d49-e895-d96749293df8"
      },
      "source": [
        "print(\"Accuracy:\",metrics.accuracy_score(y_test, y_pred))\n",
        "y_pred"
      ],
      "execution_count": 17,
      "outputs": [
        {
          "output_type": "stream",
          "text": [
            "Accuracy: 0.9545454545454546\n"
          ],
          "name": "stdout"
        },
        {
          "output_type": "execute_result",
          "data": {
            "text/plain": [
              "array([0, 0, 0, 0, 3, 2, 0, 2, 1, 2, 2, 3, 0, 0, 2, 0, 5, 5, 2, 2, 5, 3,\n",
              "       2, 5, 4, 4, 0, 0, 4, 2, 2, 4, 0, 4, 2, 3, 4, 4, 5, 0, 2, 5, 2, 1])"
            ]
          },
          "metadata": {
            "tags": []
          },
          "execution_count": 17
        }
      ]
    },
    {
      "cell_type": "markdown",
      "metadata": {
        "id": "wjhP_UNfq-ez",
        "colab_type": "text"
      },
      "source": [
        "Multinomial Naive Baiyes"
      ]
    },
    {
      "cell_type": "code",
      "metadata": {
        "id": "xWLFszrHqKxq",
        "colab_type": "code",
        "colab": {
          "base_uri": "https://localhost:8080/",
          "height": 52
        },
        "outputId": "5000fb9e-0d7c-43af-a054-597106f2aa08"
      },
      "source": [
        "from sklearn.naive_bayes import GaussianNB\n",
        "\n",
        "#Create a Gaussian Classifier\n",
        "gnb = GaussianNB()\n",
        "\n",
        "#Train the model using the training sets\n",
        "gnb.fit(X_train, y_train)\n",
        "\n",
        "#Predict the response for test dataset\n",
        "y_predwithnaive = gnb.predict(X_test)\n",
        "y_predwithnaive"
      ],
      "execution_count": 18,
      "outputs": [
        {
          "output_type": "execute_result",
          "data": {
            "text/plain": [
              "array([0, 0, 0, 0, 3, 2, 0, 2, 1, 2, 2, 1, 0, 0, 2, 0, 5, 2, 2, 2, 5, 1,\n",
              "       2, 5, 4, 4, 0, 0, 4, 2, 2, 4, 0, 4, 2, 3, 4, 4, 5, 0, 2, 5, 5, 1])"
            ]
          },
          "metadata": {
            "tags": []
          },
          "execution_count": 18
        }
      ]
    },
    {
      "cell_type": "markdown",
      "metadata": {
        "id": "dumtIbW7rPoS",
        "colab_type": "text"
      },
      "source": [
        "accuracy for naive bayes\n",
        "\n"
      ]
    },
    {
      "cell_type": "code",
      "metadata": {
        "id": "NscE9kSdrS9H",
        "colab_type": "code",
        "colab": {
          "base_uri": "https://localhost:8080/",
          "height": 70
        },
        "outputId": "d554ac67-1aa9-4098-f6e1-a6e6b000c647"
      },
      "source": [
        "print(\"Accuracy:\",metrics.accuracy_score(y_test, y_predwithnaive))\n",
        "y_predwithnaive"
      ],
      "execution_count": 19,
      "outputs": [
        {
          "output_type": "stream",
          "text": [
            "Accuracy: 0.9318181818181818\n"
          ],
          "name": "stdout"
        },
        {
          "output_type": "execute_result",
          "data": {
            "text/plain": [
              "array([0, 0, 0, 0, 3, 2, 0, 2, 1, 2, 2, 1, 0, 0, 2, 0, 5, 2, 2, 2, 5, 1,\n",
              "       2, 5, 4, 4, 0, 0, 4, 2, 2, 4, 0, 4, 2, 3, 4, 4, 5, 0, 2, 5, 5, 1])"
            ]
          },
          "metadata": {
            "tags": []
          },
          "execution_count": 19
        }
      ]
    },
    {
      "cell_type": "markdown",
      "metadata": {
        "id": "bvZEYUunsOD0",
        "colab_type": "text"
      },
      "source": [
        "Knn classifier"
      ]
    },
    {
      "cell_type": "code",
      "metadata": {
        "id": "PO_8Ku3DrgMm",
        "colab_type": "code",
        "colab": {
          "base_uri": "https://localhost:8080/",
          "height": 52
        },
        "outputId": "6f973856-514d-4688-bb80-5220a908a32d"
      },
      "source": [
        "from sklearn.neighbors import KNeighborsClassifier\n",
        "\n",
        "#Create KNN Classifier\n",
        "knn = KNeighborsClassifier(n_neighbors=6)\n",
        "\n",
        "#Train the model using the training sets\n",
        "knn.fit(X_train, y_train)\n",
        "\n",
        "#Predict the response for test dataset\n",
        "y_predwithknn = knn.predict(X_test)\n",
        "y_predwithknn"
      ],
      "execution_count": 33,
      "outputs": [
        {
          "output_type": "execute_result",
          "data": {
            "text/plain": [
              "array([1, 0, 0, 0, 3, 2, 1, 2, 1, 2, 2, 3, 1, 0, 2, 1, 5, 0, 2, 2, 5, 3,\n",
              "       2, 5, 4, 4, 1, 0, 4, 2, 2, 4, 0, 4, 2, 3, 4, 4, 5, 0, 2, 5, 5, 1])"
            ]
          },
          "metadata": {
            "tags": []
          },
          "execution_count": 33
        }
      ]
    },
    {
      "cell_type": "markdown",
      "metadata": {
        "id": "nTUk5VGyslu_",
        "colab_type": "text"
      },
      "source": [
        "Accuracy with knn classifier"
      ]
    },
    {
      "cell_type": "code",
      "metadata": {
        "id": "Ovr0VzmxspKz",
        "colab_type": "code",
        "colab": {
          "base_uri": "https://localhost:8080/",
          "height": 70
        },
        "outputId": "25423a90-14a9-444d-8759-8ff022f24be4"
      },
      "source": [
        "print(\"Accuracy:\",metrics.accuracy_score(y_test, y_predwithknn))\n",
        "y_predwithknn"
      ],
      "execution_count": 34,
      "outputs": [
        {
          "output_type": "stream",
          "text": [
            "Accuracy: 0.8863636363636364\n"
          ],
          "name": "stdout"
        },
        {
          "output_type": "execute_result",
          "data": {
            "text/plain": [
              "array([1, 0, 0, 0, 3, 2, 1, 2, 1, 2, 2, 3, 1, 0, 2, 1, 5, 0, 2, 2, 5, 3,\n",
              "       2, 5, 4, 4, 1, 0, 4, 2, 2, 4, 0, 4, 2, 3, 4, 4, 5, 0, 2, 5, 5, 1])"
            ]
          },
          "metadata": {
            "tags": []
          },
          "execution_count": 34
        }
      ]
    },
    {
      "cell_type": "markdown",
      "metadata": {
        "id": "Cppt5M27tJMs",
        "colab_type": "text"
      },
      "source": [
        "Random forest classifier"
      ]
    },
    {
      "cell_type": "code",
      "metadata": {
        "id": "JVbRB9f9tGDZ",
        "colab_type": "code",
        "colab": {
          "base_uri": "https://localhost:8080/",
          "height": 52
        },
        "outputId": "41a450f0-6322-4cd9-834c-48ef61c5faf0"
      },
      "source": [
        "from sklearn.ensemble import RandomForestClassifier\n",
        "\n",
        "#Create a Gaussian Classifier\n",
        "rand=RandomForestClassifier(n_estimators=20)\n",
        "\n",
        "#Train the model using the training sets y_pred=clf.predict(X_test)\n",
        "rand.fit(X_train,y_train)\n",
        "\n",
        "y_predwithrand=rand.predict(X_test)\n",
        "y_predwithrand"
      ],
      "execution_count": 56,
      "outputs": [
        {
          "output_type": "execute_result",
          "data": {
            "text/plain": [
              "array([0, 0, 0, 0, 3, 2, 0, 2, 1, 2, 2, 3, 0, 0, 2, 0, 5, 2, 2, 2, 5, 3,\n",
              "       2, 5, 4, 4, 0, 0, 4, 2, 2, 4, 0, 2, 2, 3, 4, 4, 5, 0, 2, 5, 5, 1])"
            ]
          },
          "metadata": {
            "tags": []
          },
          "execution_count": 56
        }
      ]
    },
    {
      "cell_type": "code",
      "metadata": {
        "id": "PwYfNMd5tyz4",
        "colab_type": "code",
        "colab": {
          "base_uri": "https://localhost:8080/",
          "height": 70
        },
        "outputId": "3c98369d-b3a0-4b41-ece6-af631808e9c0"
      },
      "source": [
        "print(\"Accuracy:\",metrics.accuracy_score(y_test, y_predwithrand))\n",
        "y_predwithrand"
      ],
      "execution_count": 58,
      "outputs": [
        {
          "output_type": "stream",
          "text": [
            "Accuracy: 0.9545454545454546\n"
          ],
          "name": "stdout"
        },
        {
          "output_type": "execute_result",
          "data": {
            "text/plain": [
              "array([0, 0, 0, 0, 3, 2, 0, 2, 1, 2, 2, 3, 0, 0, 2, 0, 5, 2, 2, 2, 5, 3,\n",
              "       2, 5, 4, 4, 0, 0, 4, 2, 2, 4, 0, 2, 2, 3, 4, 4, 5, 0, 2, 5, 5, 1])"
            ]
          },
          "metadata": {
            "tags": []
          },
          "execution_count": 58
        }
      ]
    }
  ]
}