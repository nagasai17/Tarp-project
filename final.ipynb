{
  "nbformat": 4,
  "nbformat_minor": 0,
  "metadata": {
    "colab": {
      "name": "ultimate.ipynb",
      "provenance": [],
      "toc_visible": true,
      "authorship_tag": "ABX9TyNsuk7hv/yO3kYpYQQWB7pi",
      "include_colab_link": true
    },
    "kernelspec": {
      "name": "python3",
      "display_name": "Python 3"
    }
  },
  "cells": [
    {
      "cell_type": "markdown",
      "metadata": {
        "id": "view-in-github",
        "colab_type": "text"
      },
      "source": [
        "<a href=\"https://colab.research.google.com/github/nagasai17/Tarp-project/blob/master/final.ipynb\" target=\"_parent\"><img src=\"https://colab.research.google.com/assets/colab-badge.svg\" alt=\"Open In Colab\"/></a>"
      ]
    },
    {
      "cell_type": "code",
      "metadata": {
        "id": "0MVB3GmFGrhi",
        "outputId": "80e217b8-b58f-432b-f852-515442bf12a9",
        "colab": {
          "base_uri": "https://localhost:8080/",
          "height": 495
        }
      },
      "source": [
        "import pandas as pd\n",
        "data=pd.read_excel('/content/Merged_2.xlsx')\n",
        "from sklearn.model_selection import train_test_split\n",
        "from sklearn.tree import DecisionTreeClassifier\n",
        "from sklearn import metrics\n",
        "from sklearn.preprocessing import LabelEncoder\n",
        "from datetime import datetime\n",
        "\n",
        "import seaborn as sns\n",
        "import matplotlib.pyplot as plt\n",
        "%matplotlib inline \n",
        "plt.style.use('seaborn-whitegrid')\n",
        "data\n"
      ],
      "execution_count": 1,
      "outputs": [
        {
          "output_type": "stream",
          "text": [
            "/usr/local/lib/python3.6/dist-packages/statsmodels/tools/_testing.py:19: FutureWarning: pandas.util.testing is deprecated. Use the functions in the public API at pandas.testing instead.\n",
            "  import pandas.util.testing as tm\n"
          ],
          "name": "stderr"
        },
        {
          "output_type": "execute_result",
          "data": {
            "text/html": [
              "<div>\n",
              "<style scoped>\n",
              "    .dataframe tbody tr th:only-of-type {\n",
              "        vertical-align: middle;\n",
              "    }\n",
              "\n",
              "    .dataframe tbody tr th {\n",
              "        vertical-align: top;\n",
              "    }\n",
              "\n",
              "    .dataframe thead th {\n",
              "        text-align: right;\n",
              "    }\n",
              "</style>\n",
              "<table border=\"1\" class=\"dataframe\">\n",
              "  <thead>\n",
              "    <tr style=\"text-align: right;\">\n",
              "      <th></th>\n",
              "      <th>NAME</th>\n",
              "      <th>Age</th>\n",
              "      <th>Highest Degree</th>\n",
              "      <th>English</th>\n",
              "      <th>Coding</th>\n",
              "      <th>Art</th>\n",
              "      <th>Accounting ability</th>\n",
              "      <th>known service based abilities</th>\n",
              "      <th>negotiations</th>\n",
              "      <th>Design and planning</th>\n",
              "      <th>Sector</th>\n",
              "    </tr>\n",
              "  </thead>\n",
              "  <tbody>\n",
              "    <tr>\n",
              "      <th>0</th>\n",
              "      <td>naga</td>\n",
              "      <td>20</td>\n",
              "      <td>MBBS</td>\n",
              "      <td>YES</td>\n",
              "      <td>NO</td>\n",
              "      <td>YES</td>\n",
              "      <td>NO</td>\n",
              "      <td>YES</td>\n",
              "      <td>NO</td>\n",
              "      <td>NO</td>\n",
              "      <td>Health</td>\n",
              "    </tr>\n",
              "    <tr>\n",
              "      <th>1</th>\n",
              "      <td>hari</td>\n",
              "      <td>22</td>\n",
              "      <td>BTECH</td>\n",
              "      <td>YES</td>\n",
              "      <td>YES</td>\n",
              "      <td>NO</td>\n",
              "      <td>NO</td>\n",
              "      <td>YES</td>\n",
              "      <td>NO</td>\n",
              "      <td>NO</td>\n",
              "      <td>IT</td>\n",
              "    </tr>\n",
              "    <tr>\n",
              "      <th>2</th>\n",
              "      <td>teja</td>\n",
              "      <td>23</td>\n",
              "      <td>MBBS</td>\n",
              "      <td>YES</td>\n",
              "      <td>NO</td>\n",
              "      <td>NO</td>\n",
              "      <td>NO</td>\n",
              "      <td>YES</td>\n",
              "      <td>NO</td>\n",
              "      <td>NO</td>\n",
              "      <td>Health</td>\n",
              "    </tr>\n",
              "    <tr>\n",
              "      <th>3</th>\n",
              "      <td>ravi</td>\n",
              "      <td>21</td>\n",
              "      <td>12th</td>\n",
              "      <td>YES</td>\n",
              "      <td>NO</td>\n",
              "      <td>YES</td>\n",
              "      <td>NO</td>\n",
              "      <td>YES</td>\n",
              "      <td>NO</td>\n",
              "      <td>NO</td>\n",
              "      <td>ARTS</td>\n",
              "    </tr>\n",
              "    <tr>\n",
              "      <th>4</th>\n",
              "      <td>hrithik</td>\n",
              "      <td>20</td>\n",
              "      <td>11th</td>\n",
              "      <td>NO</td>\n",
              "      <td>NO</td>\n",
              "      <td>YES</td>\n",
              "      <td>NO</td>\n",
              "      <td>NO</td>\n",
              "      <td>NO</td>\n",
              "      <td>NO</td>\n",
              "      <td>ARTS</td>\n",
              "    </tr>\n",
              "    <tr>\n",
              "      <th>...</th>\n",
              "      <td>...</td>\n",
              "      <td>...</td>\n",
              "      <td>...</td>\n",
              "      <td>...</td>\n",
              "      <td>...</td>\n",
              "      <td>...</td>\n",
              "      <td>...</td>\n",
              "      <td>...</td>\n",
              "      <td>...</td>\n",
              "      <td>...</td>\n",
              "      <td>...</td>\n",
              "    </tr>\n",
              "    <tr>\n",
              "      <th>701</th>\n",
              "      <td>Samara simha</td>\n",
              "      <td>37</td>\n",
              "      <td>11th</td>\n",
              "      <td>NO</td>\n",
              "      <td>NO</td>\n",
              "      <td>YES</td>\n",
              "      <td>YES</td>\n",
              "      <td>NO</td>\n",
              "      <td>NO</td>\n",
              "      <td>NO</td>\n",
              "      <td>ARTS</td>\n",
              "    </tr>\n",
              "    <tr>\n",
              "      <th>702</th>\n",
              "      <td>Mohan</td>\n",
              "      <td>44</td>\n",
              "      <td>10th</td>\n",
              "      <td>NO</td>\n",
              "      <td>NO</td>\n",
              "      <td>YES</td>\n",
              "      <td>NO</td>\n",
              "      <td>NO</td>\n",
              "      <td>NO</td>\n",
              "      <td>NO</td>\n",
              "      <td>ARTS</td>\n",
              "    </tr>\n",
              "    <tr>\n",
              "      <th>703</th>\n",
              "      <td>ragapriya</td>\n",
              "      <td>28</td>\n",
              "      <td>BCOM</td>\n",
              "      <td>NO</td>\n",
              "      <td>NO</td>\n",
              "      <td>YES</td>\n",
              "      <td>NO</td>\n",
              "      <td>NO</td>\n",
              "      <td>NO</td>\n",
              "      <td>NO</td>\n",
              "      <td>ARTS</td>\n",
              "    </tr>\n",
              "    <tr>\n",
              "      <th>704</th>\n",
              "      <td>jeevan</td>\n",
              "      <td>20</td>\n",
              "      <td>10th</td>\n",
              "      <td>NO</td>\n",
              "      <td>NO</td>\n",
              "      <td>YES</td>\n",
              "      <td>NO</td>\n",
              "      <td>YES</td>\n",
              "      <td>NO</td>\n",
              "      <td>NO</td>\n",
              "      <td>ARTS</td>\n",
              "    </tr>\n",
              "    <tr>\n",
              "      <th>705</th>\n",
              "      <td>Harish</td>\n",
              "      <td>20</td>\n",
              "      <td>12th</td>\n",
              "      <td>NO</td>\n",
              "      <td>NO</td>\n",
              "      <td>YES</td>\n",
              "      <td>YES</td>\n",
              "      <td>NO</td>\n",
              "      <td>NO</td>\n",
              "      <td>NO</td>\n",
              "      <td>ARTS</td>\n",
              "    </tr>\n",
              "  </tbody>\n",
              "</table>\n",
              "<p>706 rows × 11 columns</p>\n",
              "</div>"
            ],
            "text/plain": [
              "             NAME  Age Highest Degree  ... negotiations Design and planning  Sector\n",
              "0            naga   20           MBBS  ...           NO                  NO  Health\n",
              "1            hari   22          BTECH  ...           NO                  NO      IT\n",
              "2            teja   23           MBBS  ...           NO                  NO  Health\n",
              "3            ravi   21           12th  ...           NO                  NO    ARTS\n",
              "4         hrithik   20           11th  ...           NO                  NO    ARTS\n",
              "..            ...  ...            ...  ...          ...                 ...     ...\n",
              "701  Samara simha   37           11th  ...           NO                  NO    ARTS\n",
              "702         Mohan   44           10th  ...           NO                  NO    ARTS\n",
              "703     ragapriya   28           BCOM  ...           NO                  NO    ARTS\n",
              "704        jeevan   20           10th  ...           NO                  NO    ARTS\n",
              "705        Harish   20           12th  ...           NO                  NO    ARTS\n",
              "\n",
              "[706 rows x 11 columns]"
            ]
          },
          "metadata": {
            "tags": []
          },
          "execution_count": 1
        }
      ]
    },
    {
      "cell_type": "markdown",
      "metadata": {
        "id": "dPEk0zmeyBrZ"
      },
      "source": [
        "Encoding means coverting all categorical to Numerical"
      ]
    },
    {
      "cell_type": "code",
      "metadata": {
        "id": "hqC1pWJrpkXP",
        "outputId": "5d5fce3e-de0a-459a-ddb4-41155a35f33c",
        "colab": {
          "base_uri": "https://localhost:8080/",
          "height": 347
        }
      },
      "source": [
        "\n",
        "# Categorical boolean mask\n",
        "categorical_feature_mask = data.dtypes==object\n",
        "# filter categorical columns using mask and turn it into a list\n",
        "categorical_cols = data.columns[categorical_feature_mask].tolist()\n",
        "le = LabelEncoder()\n",
        "data[categorical_cols] = data[categorical_cols].apply(lambda col: le.fit_transform(col))\n",
        "data[categorical_cols].head(10)\n",
        "\n"
      ],
      "execution_count": 2,
      "outputs": [
        {
          "output_type": "execute_result",
          "data": {
            "text/html": [
              "<div>\n",
              "<style scoped>\n",
              "    .dataframe tbody tr th:only-of-type {\n",
              "        vertical-align: middle;\n",
              "    }\n",
              "\n",
              "    .dataframe tbody tr th {\n",
              "        vertical-align: top;\n",
              "    }\n",
              "\n",
              "    .dataframe thead th {\n",
              "        text-align: right;\n",
              "    }\n",
              "</style>\n",
              "<table border=\"1\" class=\"dataframe\">\n",
              "  <thead>\n",
              "    <tr style=\"text-align: right;\">\n",
              "      <th></th>\n",
              "      <th>NAME</th>\n",
              "      <th>Highest Degree</th>\n",
              "      <th>English</th>\n",
              "      <th>Coding</th>\n",
              "      <th>Art</th>\n",
              "      <th>Accounting ability</th>\n",
              "      <th>known service based abilities</th>\n",
              "      <th>negotiations</th>\n",
              "      <th>Design and planning</th>\n",
              "      <th>Sector</th>\n",
              "    </tr>\n",
              "  </thead>\n",
              "  <tbody>\n",
              "    <tr>\n",
              "      <th>0</th>\n",
              "      <td>397</td>\n",
              "      <td>6</td>\n",
              "      <td>1</td>\n",
              "      <td>0</td>\n",
              "      <td>1</td>\n",
              "      <td>0</td>\n",
              "      <td>2</td>\n",
              "      <td>0</td>\n",
              "      <td>0</td>\n",
              "      <td>3</td>\n",
              "    </tr>\n",
              "    <tr>\n",
              "      <th>1</th>\n",
              "      <td>329</td>\n",
              "      <td>5</td>\n",
              "      <td>1</td>\n",
              "      <td>1</td>\n",
              "      <td>0</td>\n",
              "      <td>0</td>\n",
              "      <td>2</td>\n",
              "      <td>0</td>\n",
              "      <td>0</td>\n",
              "      <td>4</td>\n",
              "    </tr>\n",
              "    <tr>\n",
              "      <th>2</th>\n",
              "      <td>503</td>\n",
              "      <td>6</td>\n",
              "      <td>1</td>\n",
              "      <td>0</td>\n",
              "      <td>0</td>\n",
              "      <td>0</td>\n",
              "      <td>2</td>\n",
              "      <td>0</td>\n",
              "      <td>0</td>\n",
              "      <td>3</td>\n",
              "    </tr>\n",
              "    <tr>\n",
              "      <th>3</th>\n",
              "      <td>452</td>\n",
              "      <td>2</td>\n",
              "      <td>1</td>\n",
              "      <td>0</td>\n",
              "      <td>1</td>\n",
              "      <td>0</td>\n",
              "      <td>2</td>\n",
              "      <td>0</td>\n",
              "      <td>0</td>\n",
              "      <td>0</td>\n",
              "    </tr>\n",
              "    <tr>\n",
              "      <th>4</th>\n",
              "      <td>336</td>\n",
              "      <td>1</td>\n",
              "      <td>0</td>\n",
              "      <td>0</td>\n",
              "      <td>1</td>\n",
              "      <td>0</td>\n",
              "      <td>1</td>\n",
              "      <td>0</td>\n",
              "      <td>0</td>\n",
              "      <td>0</td>\n",
              "    </tr>\n",
              "    <tr>\n",
              "      <th>5</th>\n",
              "      <td>297</td>\n",
              "      <td>6</td>\n",
              "      <td>1</td>\n",
              "      <td>0</td>\n",
              "      <td>1</td>\n",
              "      <td>0</td>\n",
              "      <td>2</td>\n",
              "      <td>0</td>\n",
              "      <td>0</td>\n",
              "      <td>3</td>\n",
              "    </tr>\n",
              "    <tr>\n",
              "      <th>6</th>\n",
              "      <td>433</td>\n",
              "      <td>5</td>\n",
              "      <td>1</td>\n",
              "      <td>0</td>\n",
              "      <td>0</td>\n",
              "      <td>0</td>\n",
              "      <td>2</td>\n",
              "      <td>1</td>\n",
              "      <td>1</td>\n",
              "      <td>5</td>\n",
              "    </tr>\n",
              "    <tr>\n",
              "      <th>7</th>\n",
              "      <td>386</td>\n",
              "      <td>5</td>\n",
              "      <td>1</td>\n",
              "      <td>0</td>\n",
              "      <td>0</td>\n",
              "      <td>1</td>\n",
              "      <td>2</td>\n",
              "      <td>0</td>\n",
              "      <td>0</td>\n",
              "      <td>2</td>\n",
              "    </tr>\n",
              "    <tr>\n",
              "      <th>8</th>\n",
              "      <td>479</td>\n",
              "      <td>6</td>\n",
              "      <td>1</td>\n",
              "      <td>0</td>\n",
              "      <td>0</td>\n",
              "      <td>0</td>\n",
              "      <td>1</td>\n",
              "      <td>0</td>\n",
              "      <td>0</td>\n",
              "      <td>3</td>\n",
              "    </tr>\n",
              "    <tr>\n",
              "      <th>9</th>\n",
              "      <td>424</td>\n",
              "      <td>5</td>\n",
              "      <td>0</td>\n",
              "      <td>0</td>\n",
              "      <td>0</td>\n",
              "      <td>0</td>\n",
              "      <td>1</td>\n",
              "      <td>1</td>\n",
              "      <td>1</td>\n",
              "      <td>5</td>\n",
              "    </tr>\n",
              "  </tbody>\n",
              "</table>\n",
              "</div>"
            ],
            "text/plain": [
              "   NAME  Highest Degree  English   ...  negotiations  Design and planning  Sector\n",
              "0   397               6         1  ...             0                    0       3\n",
              "1   329               5         1  ...             0                    0       4\n",
              "2   503               6         1  ...             0                    0       3\n",
              "3   452               2         1  ...             0                    0       0\n",
              "4   336               1         0  ...             0                    0       0\n",
              "5   297               6         1  ...             0                    0       3\n",
              "6   433               5         1  ...             1                    1       5\n",
              "7   386               5         1  ...             0                    0       2\n",
              "8   479               6         1  ...             0                    0       3\n",
              "9   424               5         0  ...             1                    1       5\n",
              "\n",
              "[10 rows x 10 columns]"
            ]
          },
          "metadata": {
            "tags": []
          },
          "execution_count": 2
        }
      ]
    },
    {
      "cell_type": "markdown",
      "metadata": {
        "id": "PHv0im41wH4C"
      },
      "source": [
        "One hot encoder\n"
      ]
    },
    {
      "cell_type": "code",
      "metadata": {
        "id": "n1YpxNRzv_zd"
      },
      "source": [
        ""
      ],
      "execution_count": null,
      "outputs": []
    },
    {
      "cell_type": "code",
      "metadata": {
        "id": "UH3XipGvvoEJ",
        "outputId": "e5764f78-2eb1-43b6-9aee-05794a0d0aca",
        "colab": {
          "base_uri": "https://localhost:8080/",
          "height": 478
        }
      },
      "source": [
        "X = data[data.columns[2:-1]] \n",
        "y = data[data.columns[-1]] \n",
        "print(X)\n",
        "print(y)"
      ],
      "execution_count": 3,
      "outputs": [
        {
          "output_type": "stream",
          "text": [
            "     Highest Degree  English   ...  negotiations  Design and planning\n",
            "0                 6         1  ...             0                    0\n",
            "1                 5         1  ...             0                    0\n",
            "2                 6         1  ...             0                    0\n",
            "3                 2         1  ...             0                    0\n",
            "4                 1         0  ...             0                    0\n",
            "..              ...       ...  ...           ...                  ...\n",
            "701               1         0  ...             0                    0\n",
            "702               0         0  ...             0                    0\n",
            "703               3         0  ...             0                    0\n",
            "704               0         0  ...             0                    0\n",
            "705               2         0  ...             0                    0\n",
            "\n",
            "[706 rows x 8 columns]\n",
            "0      3\n",
            "1      4\n",
            "2      3\n",
            "3      0\n",
            "4      0\n",
            "      ..\n",
            "701    0\n",
            "702    0\n",
            "703    0\n",
            "704    0\n",
            "705    0\n",
            "Name: Sector, Length: 706, dtype: int64\n"
          ],
          "name": "stdout"
        }
      ]
    },
    {
      "cell_type": "markdown",
      "metadata": {
        "id": "4rwNJ6Mvp9X9"
      },
      "source": [
        "splitting our data set\n"
      ]
    },
    {
      "cell_type": "code",
      "metadata": {
        "id": "Ef31pl7lqB8Z",
        "outputId": "cf901b7d-1878-4e77-fe57-66044b8fe991",
        "colab": {
          "base_uri": "https://localhost:8080/",
          "height": 301
        }
      },
      "source": [
        "X_train, X_test, y_train, y_test = train_test_split(X, y, test_size=0.45, random_state=1)\n",
        "print(X_train.shape)\n",
        "print(X_test.shape)\n",
        "print(y_train.shape)\n",
        "print(y_test.shape)\n",
        "y"
      ],
      "execution_count": 27,
      "outputs": [
        {
          "output_type": "stream",
          "text": [
            "(388, 8)\n",
            "(318, 8)\n",
            "(388,)\n",
            "(318,)\n"
          ],
          "name": "stdout"
        },
        {
          "output_type": "execute_result",
          "data": {
            "text/plain": [
              "0      3\n",
              "1      4\n",
              "2      3\n",
              "3      0\n",
              "4      0\n",
              "      ..\n",
              "701    0\n",
              "702    0\n",
              "703    0\n",
              "704    0\n",
              "705    0\n",
              "Name: Sector, Length: 706, dtype: int64"
            ]
          },
          "metadata": {
            "tags": []
          },
          "execution_count": 27
        }
      ]
    },
    {
      "cell_type": "markdown",
      "metadata": {
        "id": "e0msIllar_N3"
      },
      "source": [
        "Encoding\n",
        "\n"
      ]
    },
    {
      "cell_type": "code",
      "metadata": {
        "id": "QF9KBP2RsBDe",
        "outputId": "56efc85c-9afa-489a-f4f8-b06d732b236d",
        "colab": {
          "base_uri": "https://localhost:8080/",
          "height": 587
        }
      },
      "source": [
        ""
      ],
      "execution_count": null,
      "outputs": [
        {
          "output_type": "execute_result",
          "data": {
            "text/html": [
              "<div>\n",
              "<style scoped>\n",
              "    .dataframe tbody tr th:only-of-type {\n",
              "        vertical-align: middle;\n",
              "    }\n",
              "\n",
              "    .dataframe tbody tr th {\n",
              "        vertical-align: top;\n",
              "    }\n",
              "\n",
              "    .dataframe thead th {\n",
              "        text-align: right;\n",
              "    }\n",
              "</style>\n",
              "<table border=\"1\" class=\"dataframe\">\n",
              "  <thead>\n",
              "    <tr style=\"text-align: right;\">\n",
              "      <th></th>\n",
              "      <th>Highest Degree</th>\n",
              "      <th>English</th>\n",
              "      <th>Coding</th>\n",
              "      <th>Art</th>\n",
              "      <th>Accounting ability</th>\n",
              "      <th>known service based abilities</th>\n",
              "      <th>negotiations</th>\n",
              "      <th>Design and planning</th>\n",
              "    </tr>\n",
              "  </thead>\n",
              "  <tbody>\n",
              "    <tr>\n",
              "      <th>0</th>\n",
              "      <td>4</td>\n",
              "      <td>1</td>\n",
              "      <td>0</td>\n",
              "      <td>1</td>\n",
              "      <td>0</td>\n",
              "      <td>1</td>\n",
              "      <td>0</td>\n",
              "      <td>0</td>\n",
              "    </tr>\n",
              "    <tr>\n",
              "      <th>1</th>\n",
              "      <td>3</td>\n",
              "      <td>1</td>\n",
              "      <td>1</td>\n",
              "      <td>0</td>\n",
              "      <td>0</td>\n",
              "      <td>1</td>\n",
              "      <td>0</td>\n",
              "      <td>0</td>\n",
              "    </tr>\n",
              "    <tr>\n",
              "      <th>2</th>\n",
              "      <td>4</td>\n",
              "      <td>1</td>\n",
              "      <td>0</td>\n",
              "      <td>0</td>\n",
              "      <td>0</td>\n",
              "      <td>1</td>\n",
              "      <td>0</td>\n",
              "      <td>0</td>\n",
              "    </tr>\n",
              "    <tr>\n",
              "      <th>3</th>\n",
              "      <td>2</td>\n",
              "      <td>1</td>\n",
              "      <td>0</td>\n",
              "      <td>1</td>\n",
              "      <td>0</td>\n",
              "      <td>1</td>\n",
              "      <td>0</td>\n",
              "      <td>0</td>\n",
              "    </tr>\n",
              "    <tr>\n",
              "      <th>4</th>\n",
              "      <td>1</td>\n",
              "      <td>0</td>\n",
              "      <td>0</td>\n",
              "      <td>1</td>\n",
              "      <td>0</td>\n",
              "      <td>0</td>\n",
              "      <td>0</td>\n",
              "      <td>0</td>\n",
              "    </tr>\n",
              "    <tr>\n",
              "      <th>5</th>\n",
              "      <td>4</td>\n",
              "      <td>1</td>\n",
              "      <td>0</td>\n",
              "      <td>1</td>\n",
              "      <td>0</td>\n",
              "      <td>1</td>\n",
              "      <td>0</td>\n",
              "      <td>0</td>\n",
              "    </tr>\n",
              "    <tr>\n",
              "      <th>6</th>\n",
              "      <td>3</td>\n",
              "      <td>1</td>\n",
              "      <td>0</td>\n",
              "      <td>0</td>\n",
              "      <td>0</td>\n",
              "      <td>1</td>\n",
              "      <td>1</td>\n",
              "      <td>1</td>\n",
              "    </tr>\n",
              "    <tr>\n",
              "      <th>7</th>\n",
              "      <td>3</td>\n",
              "      <td>1</td>\n",
              "      <td>0</td>\n",
              "      <td>0</td>\n",
              "      <td>1</td>\n",
              "      <td>1</td>\n",
              "      <td>0</td>\n",
              "      <td>0</td>\n",
              "    </tr>\n",
              "    <tr>\n",
              "      <th>8</th>\n",
              "      <td>4</td>\n",
              "      <td>1</td>\n",
              "      <td>0</td>\n",
              "      <td>0</td>\n",
              "      <td>0</td>\n",
              "      <td>0</td>\n",
              "      <td>0</td>\n",
              "      <td>0</td>\n",
              "    </tr>\n",
              "    <tr>\n",
              "      <th>9</th>\n",
              "      <td>3</td>\n",
              "      <td>0</td>\n",
              "      <td>0</td>\n",
              "      <td>0</td>\n",
              "      <td>0</td>\n",
              "      <td>0</td>\n",
              "      <td>1</td>\n",
              "      <td>1</td>\n",
              "    </tr>\n",
              "    <tr>\n",
              "      <th>10</th>\n",
              "      <td>3</td>\n",
              "      <td>0</td>\n",
              "      <td>0</td>\n",
              "      <td>1</td>\n",
              "      <td>0</td>\n",
              "      <td>1</td>\n",
              "      <td>0</td>\n",
              "      <td>0</td>\n",
              "    </tr>\n",
              "    <tr>\n",
              "      <th>11</th>\n",
              "      <td>0</td>\n",
              "      <td>1</td>\n",
              "      <td>0</td>\n",
              "      <td>0</td>\n",
              "      <td>0</td>\n",
              "      <td>1</td>\n",
              "      <td>1</td>\n",
              "      <td>1</td>\n",
              "    </tr>\n",
              "    <tr>\n",
              "      <th>12</th>\n",
              "      <td>4</td>\n",
              "      <td>0</td>\n",
              "      <td>0</td>\n",
              "      <td>0</td>\n",
              "      <td>0</td>\n",
              "      <td>1</td>\n",
              "      <td>0</td>\n",
              "      <td>1</td>\n",
              "    </tr>\n",
              "    <tr>\n",
              "      <th>13</th>\n",
              "      <td>3</td>\n",
              "      <td>1</td>\n",
              "      <td>1</td>\n",
              "      <td>0</td>\n",
              "      <td>0</td>\n",
              "      <td>0</td>\n",
              "      <td>0</td>\n",
              "      <td>0</td>\n",
              "    </tr>\n",
              "    <tr>\n",
              "      <th>14</th>\n",
              "      <td>3</td>\n",
              "      <td>1</td>\n",
              "      <td>1</td>\n",
              "      <td>0</td>\n",
              "      <td>0</td>\n",
              "      <td>0</td>\n",
              "      <td>0</td>\n",
              "      <td>0</td>\n",
              "    </tr>\n",
              "    <tr>\n",
              "      <th>15</th>\n",
              "      <td>4</td>\n",
              "      <td>1</td>\n",
              "      <td>0</td>\n",
              "      <td>1</td>\n",
              "      <td>0</td>\n",
              "      <td>0</td>\n",
              "      <td>0</td>\n",
              "      <td>0</td>\n",
              "    </tr>\n",
              "    <tr>\n",
              "      <th>16</th>\n",
              "      <td>3</td>\n",
              "      <td>0</td>\n",
              "      <td>0</td>\n",
              "      <td>1</td>\n",
              "      <td>0</td>\n",
              "      <td>0</td>\n",
              "      <td>0</td>\n",
              "      <td>0</td>\n",
              "    </tr>\n",
              "    <tr>\n",
              "      <th>17</th>\n",
              "      <td>0</td>\n",
              "      <td>0</td>\n",
              "      <td>0</td>\n",
              "      <td>0</td>\n",
              "      <td>0</td>\n",
              "      <td>0</td>\n",
              "      <td>1</td>\n",
              "      <td>1</td>\n",
              "    </tr>\n",
              "  </tbody>\n",
              "</table>\n",
              "</div>"
            ],
            "text/plain": [
              "    Highest Degree  English   ...  negotiations  Design and planning\n",
              "0                4         1  ...             0                    0\n",
              "1                3         1  ...             0                    0\n",
              "2                4         1  ...             0                    0\n",
              "3                2         1  ...             0                    0\n",
              "4                1         0  ...             0                    0\n",
              "5                4         1  ...             0                    0\n",
              "6                3         1  ...             1                    1\n",
              "7                3         1  ...             0                    0\n",
              "8                4         1  ...             0                    0\n",
              "9                3         0  ...             1                    1\n",
              "10               3         0  ...             0                    0\n",
              "11               0         1  ...             1                    1\n",
              "12               4         0  ...             0                    1\n",
              "13               3         1  ...             0                    0\n",
              "14               3         1  ...             0                    0\n",
              "15               4         1  ...             0                    0\n",
              "16               3         0  ...             0                    0\n",
              "17               0         0  ...             1                    1\n",
              "\n",
              "[18 rows x 8 columns]"
            ]
          },
          "metadata": {
            "tags": []
          },
          "execution_count": 24
        }
      ]
    },
    {
      "cell_type": "markdown",
      "metadata": {
        "id": "DQOPfTkyqtEr"
      },
      "source": [
        "Desicion Tree classifier\n"
      ]
    },
    {
      "cell_type": "code",
      "metadata": {
        "id": "Y1nBxqZ9qv24"
      },
      "source": [
        "\n",
        "\n",
        "\n",
        "\n",
        "clf = DecisionTreeClassifier()\n",
        "\n",
        "# Train Decision Tree Classifer\n",
        "clf = clf.fit(X_train,y_train)\n",
        "\n",
        "#Predict the response for test dataset\n",
        "y_pred = clf.predict(X_test)"
      ],
      "execution_count": 28,
      "outputs": []
    },
    {
      "cell_type": "markdown",
      "metadata": {
        "id": "RMdQE9LVxHf9"
      },
      "source": [
        "*accuracy* for Decision Tree Classifier "
      ]
    },
    {
      "cell_type": "code",
      "metadata": {
        "id": "nTDSTNpPr451",
        "outputId": "e7265a49-14bd-457f-8cfc-392922a69233",
        "colab": {
          "base_uri": "https://localhost:8080/",
          "height": 87
        }
      },
      "source": [
        "print(\"Accuracy:\",metrics.accuracy_score(y_test, y_pred))\n",
        "\n",
        "print(\"Precison:\",metrics.precision_score(y_test,  y_pred,average='weighted') )\n",
        "print(\"recall:\",metrics.recall_score(y_test,  y_pred,average='weighted') )\n",
        "print(\"F1Score:\",metrics.f1_score(y_test,  y_pred,average='weighted') )"
      ],
      "execution_count": 29,
      "outputs": [
        {
          "output_type": "stream",
          "text": [
            "Accuracy: 0.9654088050314465\n",
            "Precison: 0.9665520051878772\n",
            "recall: 0.9654088050314465\n",
            "F1Score: 0.9653635493094994\n"
          ],
          "name": "stdout"
        }
      ]
    },
    {
      "cell_type": "markdown",
      "metadata": {
        "id": "wjhP_UNfq-ez"
      },
      "source": [
        "Multinomial Naive Baiyes"
      ]
    },
    {
      "cell_type": "code",
      "metadata": {
        "id": "xWLFszrHqKxq",
        "outputId": "fde07102-e409-4816-cfaa-869811a69b99",
        "colab": {
          "base_uri": "https://localhost:8080/",
          "height": 283
        }
      },
      "source": [
        "from sklearn.naive_bayes import GaussianNB\n",
        "\n",
        "#Create a Gaussian Classifier\n",
        "gnb = GaussianNB()\n",
        "\n",
        "#Train the model using the training sets\n",
        "gnb.fit(X_train, y_train)\n",
        "\n",
        "#Predict the response for test dataset\n",
        "y_predwithnaive = gnb.predict(X_test)\n",
        "y_predwithnaive"
      ],
      "execution_count": 30,
      "outputs": [
        {
          "output_type": "execute_result",
          "data": {
            "text/plain": [
              "array([2, 2, 4, 4, 5, 2, 4, 2, 1, 3, 5, 0, 5, 1, 1, 2, 5, 4, 5, 2, 1, 2,\n",
              "       1, 0, 0, 5, 2, 4, 5, 1, 3, 2, 5, 0, 2, 2, 5, 0, 1, 3, 4, 2, 0, 1,\n",
              "       1, 4, 0, 3, 5, 4, 4, 0, 2, 5, 4, 0, 2, 5, 0, 2, 1, 3, 2, 0, 4, 3,\n",
              "       0, 3, 2, 1, 0, 4, 3, 0, 4, 0, 5, 3, 0, 3, 0, 0, 2, 3, 3, 2, 4, 0,\n",
              "       2, 4, 5, 3, 5, 5, 0, 4, 5, 3, 5, 5, 0, 5, 2, 2, 1, 1, 0, 2, 3, 3,\n",
              "       5, 5, 0, 0, 0, 5, 5, 5, 0, 2, 0, 5, 1, 0, 3, 3, 0, 2, 0, 4, 5, 4,\n",
              "       1, 3, 0, 4, 4, 3, 5, 5, 0, 0, 5, 5, 1, 4, 0, 0, 1, 1, 5, 4, 5, 0,\n",
              "       0, 1, 1, 0, 2, 0, 2, 5, 5, 1, 4, 3, 1, 3, 4, 2, 2, 4, 2, 3, 1, 0,\n",
              "       5, 0, 1, 3, 2, 4, 2, 0, 5, 5, 4, 2, 0, 5, 1, 2, 4, 4, 0, 0, 5, 4,\n",
              "       4, 3, 2, 4, 1, 5, 2, 5, 1, 0, 1, 5, 3, 0, 4, 5, 0, 0, 5, 1, 3, 5,\n",
              "       1, 4, 2, 5, 0, 4, 5, 5, 1, 4, 5, 4, 5, 4, 5, 0, 3, 4, 2, 1, 3, 1,\n",
              "       0, 0, 2, 0, 4, 4, 2, 2, 4, 2, 0, 5, 0, 4, 1, 2, 4, 0, 0, 4, 4, 1,\n",
              "       3, 0, 4, 1, 5, 3, 1, 3, 2, 1, 5, 4, 1, 2, 4, 0, 1, 5, 4, 0, 4, 3,\n",
              "       4, 2, 4, 2, 3, 5, 5, 1, 5, 4, 5, 2, 4, 1, 0, 2, 4, 4, 0, 1, 2, 4,\n",
              "       0, 1, 0, 5, 4, 4, 5, 0, 5, 5])"
            ]
          },
          "metadata": {
            "tags": []
          },
          "execution_count": 30
        }
      ]
    },
    {
      "cell_type": "markdown",
      "metadata": {
        "id": "dumtIbW7rPoS"
      },
      "source": [
        "accuracy for naive bayes\n",
        "\n"
      ]
    },
    {
      "cell_type": "code",
      "metadata": {
        "id": "NscE9kSdrS9H",
        "outputId": "284afd4c-8219-447a-f856-d9a67c78614f",
        "colab": {
          "base_uri": "https://localhost:8080/",
          "height": 87
        }
      },
      "source": [
        "print(\"Accuracy:\",metrics.accuracy_score(y_test, y_predwithnaive))\n",
        "y_predwithnaive\n",
        "\n",
        "print(\"Precison:\",metrics.precision_score(y_test, y_predwithnaive,average='weighted') )\n",
        "print(\"recall:\",metrics.recall_score(y_test, y_predwithnaive,average='weighted') )\n",
        "print(\"F1Score:\",metrics.f1_score(y_test, y_predwithnaive,average='weighted') )\n"
      ],
      "execution_count": 31,
      "outputs": [
        {
          "output_type": "stream",
          "text": [
            "Accuracy: 0.889937106918239\n",
            "Precison: 0.9184432771107298\n",
            "recall: 0.889937106918239\n",
            "F1Score: 0.8878355780131584\n"
          ],
          "name": "stdout"
        }
      ]
    },
    {
      "cell_type": "markdown",
      "metadata": {
        "id": "bvZEYUunsOD0"
      },
      "source": [
        "Knn classifier"
      ]
    },
    {
      "cell_type": "code",
      "metadata": {
        "id": "PO_8Ku3DrgMm",
        "outputId": "b8864a5d-77d3-4ea8-82a9-0d718391eb8d",
        "colab": {
          "base_uri": "https://localhost:8080/",
          "height": 557
        }
      },
      "source": [
        "from sklearn.neighbors import KNeighborsClassifier\n",
        "import numpy as np\n",
        "\n",
        "error_rate = []\n",
        "for i in range(2,10):    \n",
        "    knn = KNeighborsClassifier(n_neighbors=i)\n",
        "    knn.fit(X_train,y_train)\n",
        "    pred_i = knn.predict(X_test)\n",
        "    error_rate.append(np.mean(pred_i != y_test))\n",
        "plt.figure(figsize=(8,4))\n",
        "plt.plot(range(2,10),error_rate,color='darkred', marker='o',markersize=10)\n",
        "plt.title('Error Rate vs. K Value')\n",
        "plt.xlabel('K')\n",
        "plt.ylabel('Error Rate')\n",
        "\n",
        "# Create KNN Classifier\n",
        "knn1 = KNeighborsClassifier(n_neighbors=5)\n",
        "\n",
        "#Train the model using the training sets\n",
        "knn1.fit(X_train, y_train)\n",
        "\n",
        "#Predict the response for test dataset\n",
        "y_predwithknn = knn1.predict(X_test)\n",
        "y_predwithknn"
      ],
      "execution_count": 32,
      "outputs": [
        {
          "output_type": "execute_result",
          "data": {
            "text/plain": [
              "array([2, 2, 4, 4, 5, 2, 4, 2, 1, 3, 5, 0, 5, 3, 3, 2, 5, 4, 5, 2, 3, 2,\n",
              "       1, 0, 0, 5, 2, 4, 5, 1, 3, 2, 5, 3, 2, 2, 5, 0, 3, 3, 4, 2, 0, 1,\n",
              "       1, 4, 0, 3, 5, 4, 4, 0, 2, 2, 4, 0, 2, 5, 3, 2, 1, 3, 2, 0, 4, 3,\n",
              "       0, 3, 2, 1, 0, 4, 3, 0, 4, 3, 5, 3, 2, 3, 0, 2, 2, 3, 3, 2, 4, 0,\n",
              "       2, 4, 5, 3, 5, 5, 0, 4, 5, 3, 5, 5, 0, 5, 2, 2, 3, 1, 0, 2, 3, 3,\n",
              "       5, 5, 0, 0, 0, 5, 5, 5, 0, 2, 2, 5, 1, 0, 3, 3, 0, 2, 0, 4, 5, 4,\n",
              "       3, 3, 0, 4, 4, 3, 5, 5, 3, 0, 5, 5, 1, 4, 3, 2, 1, 1, 5, 4, 5, 0,\n",
              "       2, 1, 3, 2, 2, 3, 2, 5, 5, 1, 4, 3, 1, 3, 4, 2, 2, 4, 2, 3, 1, 0,\n",
              "       2, 3, 1, 3, 2, 4, 2, 0, 5, 5, 4, 2, 0, 5, 1, 2, 4, 4, 0, 0, 5, 4,\n",
              "       4, 3, 2, 4, 1, 5, 2, 5, 1, 0, 1, 5, 3, 2, 4, 5, 3, 3, 5, 1, 3, 5,\n",
              "       3, 4, 2, 5, 0, 4, 5, 5, 1, 4, 5, 4, 5, 4, 5, 0, 3, 4, 2, 1, 3, 1,\n",
              "       2, 0, 2, 3, 4, 4, 2, 2, 4, 2, 0, 5, 0, 4, 1, 2, 4, 0, 0, 4, 4, 3,\n",
              "       3, 0, 4, 1, 5, 3, 1, 3, 2, 1, 5, 4, 1, 2, 4, 3, 1, 5, 4, 0, 4, 3,\n",
              "       4, 2, 4, 2, 3, 5, 5, 1, 5, 4, 5, 2, 4, 1, 3, 2, 4, 4, 0, 1, 2, 4,\n",
              "       2, 3, 2, 5, 4, 4, 5, 0, 5, 5])"
            ]
          },
          "metadata": {
            "tags": []
          },
          "execution_count": 32
        },
        {
          "output_type": "display_data",
          "data": {
            "image/png": "[encoded data removed]",
            "text/plain": [
              "<Figure size 576x288 with 1 Axes>"
            ]
          },
          "metadata": {
            "tags": [],
            "needs_background": "light"
          }
        }
      ]
    },
    {
      "cell_type": "markdown",
      "metadata": {
        "id": "yBLzKJI66f0z"
      },
      "source": [
        "Creating best KNN value classifier"
      ]
    },
    {
      "cell_type": "code",
      "metadata": {
        "id": "jt23Hk3d6kXW",
        "outputId": "3a44ebd8-5af6-4bfc-b84f-0808701d2845",
        "colab": {
          "base_uri": "https://localhost:8080/",
          "height": 283
        }
      },
      "source": [
        "# Create KNN Classifier\n",
        "knn1 = KNeighborsClassifier(n_neighbors=4)\n",
        "\n",
        "#Train the model using the training sets\n",
        "knn1.fit(X_train, y_train)\n",
        "\n",
        "#Predict the response for test dataset\n",
        "y_predwithknn = knn1.predict(X_test)\n",
        "y_predwithknn"
      ],
      "execution_count": 39,
      "outputs": [
        {
          "output_type": "execute_result",
          "data": {
            "text/plain": [
              "array([2, 2, 4, 4, 5, 2, 4, 2, 1, 3, 5, 0, 5, 3, 3, 2, 5, 4, 5, 2, 3, 2,\n",
              "       1, 0, 0, 5, 2, 4, 5, 1, 3, 2, 5, 0, 2, 2, 5, 0, 3, 3, 4, 2, 0, 1,\n",
              "       1, 4, 0, 3, 5, 4, 4, 0, 2, 2, 4, 0, 2, 5, 3, 2, 1, 3, 2, 0, 4, 3,\n",
              "       0, 3, 2, 1, 0, 4, 3, 0, 4, 3, 5, 3, 2, 3, 0, 2, 2, 3, 3, 2, 4, 0,\n",
              "       2, 4, 5, 3, 5, 5, 0, 4, 5, 3, 5, 5, 0, 5, 2, 2, 3, 1, 0, 2, 3, 3,\n",
              "       5, 5, 0, 0, 0, 5, 5, 5, 0, 2, 2, 5, 1, 0, 3, 3, 0, 2, 0, 4, 5, 4,\n",
              "       3, 3, 0, 4, 4, 3, 5, 5, 3, 0, 5, 5, 1, 4, 2, 2, 1, 1, 5, 4, 5, 0,\n",
              "       2, 1, 3, 2, 2, 0, 2, 5, 5, 1, 4, 3, 1, 3, 4, 2, 2, 4, 2, 3, 1, 0,\n",
              "       2, 3, 1, 3, 2, 4, 2, 0, 5, 5, 4, 2, 0, 5, 1, 2, 4, 4, 0, 0, 5, 4,\n",
              "       4, 3, 2, 4, 1, 5, 2, 5, 1, 0, 1, 5, 3, 2, 4, 5, 3, 3, 5, 1, 3, 5,\n",
              "       3, 4, 2, 5, 0, 4, 5, 5, 1, 4, 5, 4, 5, 4, 5, 0, 3, 4, 2, 1, 3, 1,\n",
              "       2, 0, 2, 3, 4, 4, 2, 2, 4, 2, 0, 5, 0, 4, 1, 2, 4, 0, 0, 4, 4, 3,\n",
              "       3, 0, 4, 1, 5, 3, 1, 3, 2, 1, 5, 4, 1, 2, 4, 3, 1, 5, 4, 0, 4, 3,\n",
              "       4, 2, 4, 2, 3, 5, 5, 1, 5, 4, 5, 2, 4, 1, 3, 2, 4, 4, 0, 1, 2, 4,\n",
              "       2, 3, 2, 5, 4, 4, 5, 0, 5, 5])"
            ]
          },
          "metadata": {
            "tags": []
          },
          "execution_count": 39
        }
      ]
    },
    {
      "cell_type": "markdown",
      "metadata": {
        "id": "nTUk5VGyslu_"
      },
      "source": [
        "Accuracy with knn classifier"
      ]
    },
    {
      "cell_type": "code",
      "metadata": {
        "id": "Ovr0VzmxspKz",
        "outputId": "8f874c63-36fc-475e-cc5a-90b645b09871",
        "colab": {
          "base_uri": "https://localhost:8080/",
          "height": 87
        }
      },
      "source": [
        "print(\"Accuracy:\",metrics.accuracy_score(y_test, y_predwithknn))\n",
        "y_predwithknn\n",
        "print(\"Precison:\",metrics.precision_score(y_test, y_predwithknn,average='weighted') )\n",
        "print(\"recall:\",metrics.recall_score(y_test, y_predwithknn,average='weighted') )\n",
        "print(\"F1Score:\",metrics.f1_score(y_test, y_predwithknn,average='weighted') )"
      ],
      "execution_count": 40,
      "outputs": [
        {
          "output_type": "stream",
          "text": [
            "Accuracy: 0.9811320754716981\n",
            "Precison: 0.9814210407524598\n",
            "recall: 0.9811320754716981\n",
            "F1Score: 0.98110503394178\n"
          ],
          "name": "stdout"
        }
      ]
    },
    {
      "cell_type": "markdown",
      "metadata": {
        "id": "Cppt5M27tJMs"
      },
      "source": [
        "Random forest classifier"
      ]
    },
    {
      "cell_type": "code",
      "metadata": {
        "id": "JVbRB9f9tGDZ",
        "outputId": "97ab6086-8086-4627-c7f0-f9dc30c16d78",
        "colab": {
          "base_uri": "https://localhost:8080/",
          "height": 283
        }
      },
      "source": [
        "from sklearn.ensemble import RandomForestClassifier\n",
        "\n",
        "results = []\n",
        "n_estimaor_options = [20,25,30,35,40,45,50,55,60,65,70,75,80,85,90,95,100]\n",
        "for trees in n_estimaor_options:\n",
        "    model = RandomForestClassifier(trees,  random_state=0)\n",
        "    model.fit(X_train, y_train)\n",
        "    y_pred12 = model.predict(X_test)\n",
        "    accuracy = np.mean(y_test==y_pred12)\n",
        "    results.append(accuracy)\n",
        "\n",
        "plt.figure(figsize=(8,4))\n",
        "pd.Series(results, n_estimaor_options).plot(color=\"darkred\",marker=\"o\")\n",
        "\n",
        "\n",
        "\n",
        "\n",
        "\n",
        "\n",
        "# #Create a Gaussian Classifier\n",
        "# rand=RandomForestClassifier(n_estimators=20)\n",
        "\n",
        "# #Train the model using the training sets y_pred=clf.predict(X_test)\n",
        "# rand.fit(X_train,y_train)\n",
        "\n",
        "# y_predwithrand=rand.predict(X_test)\n",
        "# y_predwithrand"
      ],
      "execution_count": 41,
      "outputs": [
        {
          "output_type": "execute_result",
          "data": {
            "text/plain": [
              "<matplotlib.axes._subplots.AxesSubplot at 0x7fd7f82f2cc0>"
            ]
          },
          "metadata": {
            "tags": []
          },
          "execution_count": 41
        },
        {
          "output_type": "display_data",
          "data": {
            "image/png": "[encoded data removed]",
            "text/plain": [
              "<Figure size 576x288 with 1 Axes>"
            ]
          },
          "metadata": {
            "tags": [],
            "needs_background": "light"
          }
        }
      ]
    },
    {
      "cell_type": "code",
      "metadata": {
        "id": "DSb27ogS-Zi4",
        "outputId": "8d44943e-3965-4a37-b053-88a94917a05e",
        "colab": {
          "base_uri": "https://localhost:8080/",
          "height": 283
        }
      },
      "source": [
        "\n",
        "#Create a Gaussian Classifier\n",
        "rand=RandomForestClassifier(n_estimators=38)\n",
        "\n",
        "#Train the model using the training sets y_pred=clf.predict(X_test)\n",
        "rand.fit(X_train,y_train)\n",
        "\n",
        "y_predwithrand=rand.predict(X_test)\n",
        "y_predwithrand"
      ],
      "execution_count": 42,
      "outputs": [
        {
          "output_type": "execute_result",
          "data": {
            "text/plain": [
              "array([2, 2, 4, 4, 5, 2, 4, 2, 1, 3, 5, 0, 5, 3, 3, 2, 5, 4, 5, 2, 3, 2,\n",
              "       1, 0, 0, 5, 2, 4, 5, 1, 3, 2, 5, 3, 2, 2, 5, 0, 3, 3, 4, 2, 0, 1,\n",
              "       1, 4, 0, 3, 5, 4, 4, 0, 2, 5, 4, 0, 2, 5, 3, 2, 1, 3, 2, 0, 4, 3,\n",
              "       0, 3, 2, 1, 0, 4, 3, 0, 4, 3, 5, 3, 2, 3, 0, 2, 2, 3, 3, 2, 4, 0,\n",
              "       2, 4, 5, 3, 5, 5, 0, 4, 5, 3, 5, 5, 0, 5, 2, 2, 3, 1, 0, 2, 3, 3,\n",
              "       5, 5, 0, 0, 0, 5, 5, 5, 0, 2, 2, 5, 1, 0, 3, 3, 0, 2, 0, 4, 5, 4,\n",
              "       3, 3, 0, 4, 4, 3, 5, 5, 3, 0, 5, 5, 1, 4, 3, 2, 1, 1, 5, 4, 5, 0,\n",
              "       2, 1, 3, 2, 2, 3, 2, 5, 5, 1, 4, 3, 1, 3, 4, 2, 2, 4, 2, 3, 1, 0,\n",
              "       2, 3, 1, 3, 2, 4, 2, 0, 5, 5, 4, 2, 0, 5, 1, 2, 4, 4, 0, 0, 5, 4,\n",
              "       4, 3, 2, 4, 1, 5, 2, 5, 1, 0, 1, 5, 3, 2, 4, 5, 3, 3, 5, 1, 3, 5,\n",
              "       3, 4, 2, 5, 0, 4, 5, 5, 1, 4, 5, 4, 5, 4, 5, 0, 3, 4, 2, 1, 3, 1,\n",
              "       2, 0, 2, 3, 4, 4, 2, 2, 4, 2, 0, 5, 0, 4, 1, 2, 4, 0, 0, 4, 4, 3,\n",
              "       3, 0, 4, 1, 5, 3, 1, 3, 2, 1, 5, 4, 1, 2, 4, 3, 1, 5, 4, 0, 4, 3,\n",
              "       4, 2, 4, 2, 3, 5, 5, 1, 5, 4, 5, 2, 4, 1, 3, 2, 4, 4, 0, 1, 2, 4,\n",
              "       2, 3, 2, 5, 4, 4, 5, 0, 5, 5])"
            ]
          },
          "metadata": {
            "tags": []
          },
          "execution_count": 42
        }
      ]
    },
    {
      "cell_type": "code",
      "metadata": {
        "id": "PwYfNMd5tyz4",
        "outputId": "0a317324-6171-4dd8-e089-c955e7429376",
        "colab": {
          "base_uri": "https://localhost:8080/",
          "height": 87
        }
      },
      "source": [
        "print(\"Accuracy:\",metrics.accuracy_score(y_test, y_predwithrand))\n",
        "y_predwithrand\n",
        "\n",
        "print(\"Precison:\",metrics.precision_score(y_test, y_predwithrand,average='weighted') )\n",
        "print(\"recall:\",metrics.recall_score(y_test, y_predwithrand,average='weighted') )\n",
        "print(\"F1Score:\",metrics.f1_score(y_test, y_predwithrand,average='weighted') )"
      ],
      "execution_count": 43,
      "outputs": [
        {
          "output_type": "stream",
          "text": [
            "Accuracy: 0.9874213836477987\n",
            "Precison: 0.9875220731314143\n",
            "recall: 0.9874213836477987\n",
            "F1Score: 0.9874163162930596\n"
          ],
          "name": "stdout"
        }
      ]
    }
  ]
}