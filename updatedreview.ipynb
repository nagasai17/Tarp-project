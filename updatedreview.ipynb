{
  "nbformat": 4,
  "nbformat_minor": 0,
  "metadata": {
    "colab": {
      "name": "Untitled2.ipynb",
      "provenance": [],
      "toc_visible": true,
      "authorship_tag": "ABX9TyNrMtftLlaAiq2qMbACf0+e",
      "include_colab_link": true
    },
    "kernelspec": {
      "name": "python3",
      "display_name": "Python 3"
    }
  },
  "cells": [
    {
      "cell_type": "markdown",
      "metadata": {
        "id": "view-in-github",
        "colab_type": "text"
      },
      "source": [
        "<a href=\"https://colab.research.google.com/github/nagasai17/Tarp-project/blob/master/updatedreview.ipynb\" target=\"_parent\"><img src=\"https://colab.research.google.com/assets/colab-badge.svg\" alt=\"Open In Colab\"/></a>"
      ]
    },
    {
      "cell_type": "code",
      "metadata": {
        "id": "0MVB3GmFGrhi",
        "colab_type": "code",
        "colab": {
          "base_uri": "https://localhost:8080/",
          "height": 473
        },
        "outputId": "fa073381-8c59-4865-fbe5-c2beb68fc04a"
      },
      "source": [
        "import pandas as pd\n",
        "data=pd.read_excel('/content/Merged_2.xlsx')\n",
        "from sklearn.model_selection import train_test_split\n",
        "from sklearn.tree import DecisionTreeClassifier\n",
        "from sklearn import metrics\n",
        "from sklearn.preprocessing import LabelEncoder\n",
        "data\n"
      ],
      "execution_count": 2,
      "outputs": [
        {
          "output_type": "execute_result",
          "data": {
            "text/html": [
              "<div>\n",
              "<style scoped>\n",
              "    .dataframe tbody tr th:only-of-type {\n",
              "        vertical-align: middle;\n",
              "    }\n",
              "\n",
              "    .dataframe tbody tr th {\n",
              "        vertical-align: top;\n",
              "    }\n",
              "\n",
              "    .dataframe thead th {\n",
              "        text-align: right;\n",
              "    }\n",
              "</style>\n",
              "<table border=\"1\" class=\"dataframe\">\n",
              "  <thead>\n",
              "    <tr style=\"text-align: right;\">\n",
              "      <th></th>\n",
              "      <th>NAME</th>\n",
              "      <th>Age</th>\n",
              "      <th>Highest Degree</th>\n",
              "      <th>English</th>\n",
              "      <th>Coding</th>\n",
              "      <th>Art</th>\n",
              "      <th>Accounting ability</th>\n",
              "      <th>known service based abilities</th>\n",
              "      <th>negotiations</th>\n",
              "      <th>Design and planning</th>\n",
              "      <th>Sector</th>\n",
              "    </tr>\n",
              "  </thead>\n",
              "  <tbody>\n",
              "    <tr>\n",
              "      <th>0</th>\n",
              "      <td>naga</td>\n",
              "      <td>20</td>\n",
              "      <td>MBBS</td>\n",
              "      <td>YES</td>\n",
              "      <td>NO</td>\n",
              "      <td>YES</td>\n",
              "      <td>NO</td>\n",
              "      <td>YES</td>\n",
              "      <td>NO</td>\n",
              "      <td>NO</td>\n",
              "      <td>Health</td>\n",
              "    </tr>\n",
              "    <tr>\n",
              "      <th>1</th>\n",
              "      <td>hari</td>\n",
              "      <td>22</td>\n",
              "      <td>BTECH</td>\n",
              "      <td>YES</td>\n",
              "      <td>YES</td>\n",
              "      <td>NO</td>\n",
              "      <td>NO</td>\n",
              "      <td>YES</td>\n",
              "      <td>NO</td>\n",
              "      <td>NO</td>\n",
              "      <td>IT</td>\n",
              "    </tr>\n",
              "    <tr>\n",
              "      <th>2</th>\n",
              "      <td>teja</td>\n",
              "      <td>23</td>\n",
              "      <td>MBBS</td>\n",
              "      <td>YES</td>\n",
              "      <td>NO</td>\n",
              "      <td>NO</td>\n",
              "      <td>NO</td>\n",
              "      <td>YES</td>\n",
              "      <td>NO</td>\n",
              "      <td>NO</td>\n",
              "      <td>Health</td>\n",
              "    </tr>\n",
              "    <tr>\n",
              "      <th>3</th>\n",
              "      <td>ravi</td>\n",
              "      <td>21</td>\n",
              "      <td>12th</td>\n",
              "      <td>YES</td>\n",
              "      <td>NO</td>\n",
              "      <td>YES</td>\n",
              "      <td>NO</td>\n",
              "      <td>YES</td>\n",
              "      <td>NO</td>\n",
              "      <td>NO</td>\n",
              "      <td>ARTS</td>\n",
              "    </tr>\n",
              "    <tr>\n",
              "      <th>4</th>\n",
              "      <td>hrithik</td>\n",
              "      <td>20</td>\n",
              "      <td>11th</td>\n",
              "      <td>NO</td>\n",
              "      <td>NO</td>\n",
              "      <td>YES</td>\n",
              "      <td>NO</td>\n",
              "      <td>NO</td>\n",
              "      <td>NO</td>\n",
              "      <td>NO</td>\n",
              "      <td>ARTS</td>\n",
              "    </tr>\n",
              "    <tr>\n",
              "      <th>...</th>\n",
              "      <td>...</td>\n",
              "      <td>...</td>\n",
              "      <td>...</td>\n",
              "      <td>...</td>\n",
              "      <td>...</td>\n",
              "      <td>...</td>\n",
              "      <td>...</td>\n",
              "      <td>...</td>\n",
              "      <td>...</td>\n",
              "      <td>...</td>\n",
              "      <td>...</td>\n",
              "    </tr>\n",
              "    <tr>\n",
              "      <th>304</th>\n",
              "      <td>Varun Krishna</td>\n",
              "      <td>39</td>\n",
              "      <td>BCOM</td>\n",
              "      <td>NO</td>\n",
              "      <td>NO</td>\n",
              "      <td>NO</td>\n",
              "      <td>YES</td>\n",
              "      <td>NO</td>\n",
              "      <td>NO</td>\n",
              "      <td>NO</td>\n",
              "      <td>FINANCE</td>\n",
              "    </tr>\n",
              "    <tr>\n",
              "      <th>305</th>\n",
              "      <td>Deepak</td>\n",
              "      <td>37</td>\n",
              "      <td>MBBS</td>\n",
              "      <td>NO</td>\n",
              "      <td>NO</td>\n",
              "      <td>NO</td>\n",
              "      <td>NO</td>\n",
              "      <td>NO</td>\n",
              "      <td>NO</td>\n",
              "      <td>NO</td>\n",
              "      <td>Health</td>\n",
              "    </tr>\n",
              "    <tr>\n",
              "      <th>306</th>\n",
              "      <td>Rajesh Sahni</td>\n",
              "      <td>27</td>\n",
              "      <td>MBBS</td>\n",
              "      <td>NO</td>\n",
              "      <td>NO</td>\n",
              "      <td>YES</td>\n",
              "      <td>NO</td>\n",
              "      <td>YES</td>\n",
              "      <td>NO</td>\n",
              "      <td>NO</td>\n",
              "      <td>Health</td>\n",
              "    </tr>\n",
              "    <tr>\n",
              "      <th>307</th>\n",
              "      <td>Tejaswini</td>\n",
              "      <td>23</td>\n",
              "      <td>12th</td>\n",
              "      <td>YES</td>\n",
              "      <td>NO</td>\n",
              "      <td>YES</td>\n",
              "      <td>NO</td>\n",
              "      <td>NO</td>\n",
              "      <td>NO</td>\n",
              "      <td>NO</td>\n",
              "      <td>ARTS</td>\n",
              "    </tr>\n",
              "    <tr>\n",
              "      <th>308</th>\n",
              "      <td>Komal Vaishnavi</td>\n",
              "      <td>28</td>\n",
              "      <td>BTECH</td>\n",
              "      <td>YES</td>\n",
              "      <td>YES</td>\n",
              "      <td>NO</td>\n",
              "      <td>NO</td>\n",
              "      <td>YES</td>\n",
              "      <td>YES</td>\n",
              "      <td>YES</td>\n",
              "      <td>MANUFACTURE</td>\n",
              "    </tr>\n",
              "  </tbody>\n",
              "</table>\n",
              "<p>309 rows × 11 columns</p>\n",
              "</div>"
            ],
            "text/plain": [
              "                NAME  Age  ... Design and planning       Sector\n",
              "0               naga   20  ...                  NO       Health\n",
              "1               hari   22  ...                  NO           IT\n",
              "2               teja   23  ...                  NO       Health\n",
              "3               ravi   21  ...                  NO         ARTS\n",
              "4            hrithik   20  ...                  NO         ARTS\n",
              "..               ...  ...  ...                 ...          ...\n",
              "304    Varun Krishna   39  ...                  NO      FINANCE\n",
              "305           Deepak   37  ...                  NO       Health\n",
              "306     Rajesh Sahni   27  ...                  NO       Health\n",
              "307        Tejaswini   23  ...                  NO         ARTS\n",
              "308  Komal Vaishnavi   28  ...                 YES  MANUFACTURE\n",
              "\n",
              "[309 rows x 11 columns]"
            ]
          },
          "metadata": {
            "tags": []
          },
          "execution_count": 2
        }
      ]
    },
    {
      "cell_type": "markdown",
      "metadata": {
        "id": "dPEk0zmeyBrZ",
        "colab_type": "text"
      },
      "source": [
        "Encoding means coverting all categorical to Numerical"
      ]
    },
    {
      "cell_type": "code",
      "metadata": {
        "id": "hqC1pWJrpkXP",
        "colab_type": "code",
        "colab": {
          "base_uri": "https://localhost:8080/",
          "height": 347
        },
        "outputId": "4c6990da-f603-4565-ec5a-aa7e77dad059"
      },
      "source": [
        "\n",
        "# Categorical boolean mask\n",
        "categorical_feature_mask = data.dtypes==object\n",
        "# filter categorical columns using mask and turn it into a list\n",
        "categorical_cols = data.columns[categorical_feature_mask].tolist()\n",
        "le = LabelEncoder()\n",
        "data[categorical_cols] = data[categorical_cols].apply(lambda col: le.fit_transform(col))\n",
        "data[categorical_cols].head(10)\n",
        "\n"
      ],
      "execution_count": 3,
      "outputs": [
        {
          "output_type": "execute_result",
          "data": {
            "text/html": [
              "<div>\n",
              "<style scoped>\n",
              "    .dataframe tbody tr th:only-of-type {\n",
              "        vertical-align: middle;\n",
              "    }\n",
              "\n",
              "    .dataframe tbody tr th {\n",
              "        vertical-align: top;\n",
              "    }\n",
              "\n",
              "    .dataframe thead th {\n",
              "        text-align: right;\n",
              "    }\n",
              "</style>\n",
              "<table border=\"1\" class=\"dataframe\">\n",
              "  <thead>\n",
              "    <tr style=\"text-align: right;\">\n",
              "      <th></th>\n",
              "      <th>NAME</th>\n",
              "      <th>Highest Degree</th>\n",
              "      <th>English</th>\n",
              "      <th>Coding</th>\n",
              "      <th>Art</th>\n",
              "      <th>Accounting ability</th>\n",
              "      <th>known service based abilities</th>\n",
              "      <th>negotiations</th>\n",
              "      <th>Design and planning</th>\n",
              "      <th>Sector</th>\n",
              "    </tr>\n",
              "  </thead>\n",
              "  <tbody>\n",
              "    <tr>\n",
              "      <th>0</th>\n",
              "      <td>252</td>\n",
              "      <td>5</td>\n",
              "      <td>1</td>\n",
              "      <td>0</td>\n",
              "      <td>1</td>\n",
              "      <td>0</td>\n",
              "      <td>1</td>\n",
              "      <td>0</td>\n",
              "      <td>0</td>\n",
              "      <td>3</td>\n",
              "    </tr>\n",
              "    <tr>\n",
              "      <th>1</th>\n",
              "      <td>215</td>\n",
              "      <td>4</td>\n",
              "      <td>1</td>\n",
              "      <td>1</td>\n",
              "      <td>0</td>\n",
              "      <td>0</td>\n",
              "      <td>1</td>\n",
              "      <td>0</td>\n",
              "      <td>0</td>\n",
              "      <td>4</td>\n",
              "    </tr>\n",
              "    <tr>\n",
              "      <th>2</th>\n",
              "      <td>294</td>\n",
              "      <td>5</td>\n",
              "      <td>1</td>\n",
              "      <td>0</td>\n",
              "      <td>0</td>\n",
              "      <td>0</td>\n",
              "      <td>1</td>\n",
              "      <td>0</td>\n",
              "      <td>0</td>\n",
              "      <td>3</td>\n",
              "    </tr>\n",
              "    <tr>\n",
              "      <th>3</th>\n",
              "      <td>273</td>\n",
              "      <td>2</td>\n",
              "      <td>1</td>\n",
              "      <td>0</td>\n",
              "      <td>1</td>\n",
              "      <td>0</td>\n",
              "      <td>1</td>\n",
              "      <td>0</td>\n",
              "      <td>0</td>\n",
              "      <td>0</td>\n",
              "    </tr>\n",
              "    <tr>\n",
              "      <th>4</th>\n",
              "      <td>219</td>\n",
              "      <td>1</td>\n",
              "      <td>0</td>\n",
              "      <td>0</td>\n",
              "      <td>1</td>\n",
              "      <td>0</td>\n",
              "      <td>0</td>\n",
              "      <td>0</td>\n",
              "      <td>0</td>\n",
              "      <td>0</td>\n",
              "    </tr>\n",
              "    <tr>\n",
              "      <th>5</th>\n",
              "      <td>196</td>\n",
              "      <td>5</td>\n",
              "      <td>1</td>\n",
              "      <td>0</td>\n",
              "      <td>1</td>\n",
              "      <td>0</td>\n",
              "      <td>1</td>\n",
              "      <td>0</td>\n",
              "      <td>0</td>\n",
              "      <td>3</td>\n",
              "    </tr>\n",
              "    <tr>\n",
              "      <th>6</th>\n",
              "      <td>266</td>\n",
              "      <td>4</td>\n",
              "      <td>1</td>\n",
              "      <td>0</td>\n",
              "      <td>0</td>\n",
              "      <td>0</td>\n",
              "      <td>1</td>\n",
              "      <td>1</td>\n",
              "      <td>1</td>\n",
              "      <td>5</td>\n",
              "    </tr>\n",
              "    <tr>\n",
              "      <th>7</th>\n",
              "      <td>247</td>\n",
              "      <td>4</td>\n",
              "      <td>1</td>\n",
              "      <td>0</td>\n",
              "      <td>0</td>\n",
              "      <td>1</td>\n",
              "      <td>1</td>\n",
              "      <td>0</td>\n",
              "      <td>0</td>\n",
              "      <td>2</td>\n",
              "    </tr>\n",
              "    <tr>\n",
              "      <th>8</th>\n",
              "      <td>284</td>\n",
              "      <td>5</td>\n",
              "      <td>1</td>\n",
              "      <td>0</td>\n",
              "      <td>0</td>\n",
              "      <td>0</td>\n",
              "      <td>0</td>\n",
              "      <td>0</td>\n",
              "      <td>0</td>\n",
              "      <td>3</td>\n",
              "    </tr>\n",
              "    <tr>\n",
              "      <th>9</th>\n",
              "      <td>261</td>\n",
              "      <td>4</td>\n",
              "      <td>0</td>\n",
              "      <td>0</td>\n",
              "      <td>0</td>\n",
              "      <td>0</td>\n",
              "      <td>0</td>\n",
              "      <td>1</td>\n",
              "      <td>1</td>\n",
              "      <td>5</td>\n",
              "    </tr>\n",
              "  </tbody>\n",
              "</table>\n",
              "</div>"
            ],
            "text/plain": [
              "   NAME  Highest Degree  English   ...  negotiations  Design and planning  Sector\n",
              "0   252               5         1  ...             0                    0       3\n",
              "1   215               4         1  ...             0                    0       4\n",
              "2   294               5         1  ...             0                    0       3\n",
              "3   273               2         1  ...             0                    0       0\n",
              "4   219               1         0  ...             0                    0       0\n",
              "5   196               5         1  ...             0                    0       3\n",
              "6   266               4         1  ...             1                    1       5\n",
              "7   247               4         1  ...             0                    0       2\n",
              "8   284               5         1  ...             0                    0       3\n",
              "9   261               4         0  ...             1                    1       5\n",
              "\n",
              "[10 rows x 10 columns]"
            ]
          },
          "metadata": {
            "tags": []
          },
          "execution_count": 3
        }
      ]
    },
    {
      "cell_type": "markdown",
      "metadata": {
        "id": "PHv0im41wH4C",
        "colab_type": "text"
      },
      "source": [
        "One hot encoder\n"
      ]
    },
    {
      "cell_type": "code",
      "metadata": {
        "id": "n1YpxNRzv_zd",
        "colab_type": "code",
        "colab": {}
      },
      "source": [
        ""
      ],
      "execution_count": null,
      "outputs": []
    },
    {
      "cell_type": "code",
      "metadata": {
        "id": "UH3XipGvvoEJ",
        "colab_type": "code",
        "colab": {
          "base_uri": "https://localhost:8080/",
          "height": 478
        },
        "outputId": "ac34436f-685a-47ee-831f-8c8e6b8cb2d9"
      },
      "source": [
        "X = data[data.columns[2:-1]] \n",
        "y = data[data.columns[-1]] \n",
        "print(X)\n",
        "print(y)"
      ],
      "execution_count": 4,
      "outputs": [
        {
          "output_type": "stream",
          "text": [
            "     Highest Degree  English   ...  negotiations  Design and planning\n",
            "0                 5         1  ...             0                    0\n",
            "1                 4         1  ...             0                    0\n",
            "2                 5         1  ...             0                    0\n",
            "3                 2         1  ...             0                    0\n",
            "4                 1         0  ...             0                    0\n",
            "..              ...       ...  ...           ...                  ...\n",
            "304               3         0  ...             0                    0\n",
            "305               5         0  ...             0                    0\n",
            "306               5         0  ...             0                    0\n",
            "307               2         1  ...             0                    0\n",
            "308               4         1  ...             1                    1\n",
            "\n",
            "[309 rows x 8 columns]\n",
            "0      3\n",
            "1      4\n",
            "2      3\n",
            "3      0\n",
            "4      0\n",
            "      ..\n",
            "304    2\n",
            "305    3\n",
            "306    3\n",
            "307    0\n",
            "308    5\n",
            "Name: Sector, Length: 309, dtype: int64\n"
          ],
          "name": "stdout"
        }
      ]
    },
    {
      "cell_type": "markdown",
      "metadata": {
        "id": "4rwNJ6Mvp9X9",
        "colab_type": "text"
      },
      "source": [
        "splitting our data set\n"
      ]
    },
    {
      "cell_type": "code",
      "metadata": {
        "id": "Ef31pl7lqB8Z",
        "colab_type": "code",
        "colab": {
          "base_uri": "https://localhost:8080/",
          "height": 301
        },
        "outputId": "c4c086fb-8306-4481-c1ed-393450eef669"
      },
      "source": [
        "X_train, X_test, y_train, y_test = train_test_split(X, y, test_size=0.4, random_state=1)\n",
        "print(X_train.shape)\n",
        "print(X_test.shape)\n",
        "print(y_train.shape)\n",
        "print(y_test.shape)\n",
        "y"
      ],
      "execution_count": 5,
      "outputs": [
        {
          "output_type": "stream",
          "text": [
            "(185, 8)\n",
            "(124, 8)\n",
            "(185,)\n",
            "(124,)\n"
          ],
          "name": "stdout"
        },
        {
          "output_type": "execute_result",
          "data": {
            "text/plain": [
              "0      3\n",
              "1      4\n",
              "2      3\n",
              "3      0\n",
              "4      0\n",
              "      ..\n",
              "304    2\n",
              "305    3\n",
              "306    3\n",
              "307    0\n",
              "308    5\n",
              "Name: Sector, Length: 309, dtype: int64"
            ]
          },
          "metadata": {
            "tags": []
          },
          "execution_count": 5
        }
      ]
    },
    {
      "cell_type": "markdown",
      "metadata": {
        "id": "e0msIllar_N3",
        "colab_type": "text"
      },
      "source": [
        "Encoding\n",
        "\n"
      ]
    },
    {
      "cell_type": "code",
      "metadata": {
        "id": "QF9KBP2RsBDe",
        "colab_type": "code",
        "colab": {
          "base_uri": "https://localhost:8080/",
          "height": 587
        },
        "outputId": "56efc85c-9afa-489a-f4f8-b06d732b236d"
      },
      "source": [
        ""
      ],
      "execution_count": null,
      "outputs": [
        {
          "output_type": "execute_result",
          "data": {
            "text/html": [
              "<div>\n",
              "<style scoped>\n",
              "    .dataframe tbody tr th:only-of-type {\n",
              "        vertical-align: middle;\n",
              "    }\n",
              "\n",
              "    .dataframe tbody tr th {\n",
              "        vertical-align: top;\n",
              "    }\n",
              "\n",
              "    .dataframe thead th {\n",
              "        text-align: right;\n",
              "    }\n",
              "</style>\n",
              "<table border=\"1\" class=\"dataframe\">\n",
              "  <thead>\n",
              "    <tr style=\"text-align: right;\">\n",
              "      <th></th>\n",
              "      <th>Highest Degree</th>\n",
              "      <th>English</th>\n",
              "      <th>Coding</th>\n",
              "      <th>Art</th>\n",
              "      <th>Accounting ability</th>\n",
              "      <th>known service based abilities</th>\n",
              "      <th>negotiations</th>\n",
              "      <th>Design and planning</th>\n",
              "    </tr>\n",
              "  </thead>\n",
              "  <tbody>\n",
              "    <tr>\n",
              "      <th>0</th>\n",
              "      <td>4</td>\n",
              "      <td>1</td>\n",
              "      <td>0</td>\n",
              "      <td>1</td>\n",
              "      <td>0</td>\n",
              "      <td>1</td>\n",
              "      <td>0</td>\n",
              "      <td>0</td>\n",
              "    </tr>\n",
              "    <tr>\n",
              "      <th>1</th>\n",
              "      <td>3</td>\n",
              "      <td>1</td>\n",
              "      <td>1</td>\n",
              "      <td>0</td>\n",
              "      <td>0</td>\n",
              "      <td>1</td>\n",
              "      <td>0</td>\n",
              "      <td>0</td>\n",
              "    </tr>\n",
              "    <tr>\n",
              "      <th>2</th>\n",
              "      <td>4</td>\n",
              "      <td>1</td>\n",
              "      <td>0</td>\n",
              "      <td>0</td>\n",
              "      <td>0</td>\n",
              "      <td>1</td>\n",
              "      <td>0</td>\n",
              "      <td>0</td>\n",
              "    </tr>\n",
              "    <tr>\n",
              "      <th>3</th>\n",
              "      <td>2</td>\n",
              "      <td>1</td>\n",
              "      <td>0</td>\n",
              "      <td>1</td>\n",
              "      <td>0</td>\n",
              "      <td>1</td>\n",
              "      <td>0</td>\n",
              "      <td>0</td>\n",
              "    </tr>\n",
              "    <tr>\n",
              "      <th>4</th>\n",
              "      <td>1</td>\n",
              "      <td>0</td>\n",
              "      <td>0</td>\n",
              "      <td>1</td>\n",
              "      <td>0</td>\n",
              "      <td>0</td>\n",
              "      <td>0</td>\n",
              "      <td>0</td>\n",
              "    </tr>\n",
              "    <tr>\n",
              "      <th>5</th>\n",
              "      <td>4</td>\n",
              "      <td>1</td>\n",
              "      <td>0</td>\n",
              "      <td>1</td>\n",
              "      <td>0</td>\n",
              "      <td>1</td>\n",
              "      <td>0</td>\n",
              "      <td>0</td>\n",
              "    </tr>\n",
              "    <tr>\n",
              "      <th>6</th>\n",
              "      <td>3</td>\n",
              "      <td>1</td>\n",
              "      <td>0</td>\n",
              "      <td>0</td>\n",
              "      <td>0</td>\n",
              "      <td>1</td>\n",
              "      <td>1</td>\n",
              "      <td>1</td>\n",
              "    </tr>\n",
              "    <tr>\n",
              "      <th>7</th>\n",
              "      <td>3</td>\n",
              "      <td>1</td>\n",
              "      <td>0</td>\n",
              "      <td>0</td>\n",
              "      <td>1</td>\n",
              "      <td>1</td>\n",
              "      <td>0</td>\n",
              "      <td>0</td>\n",
              "    </tr>\n",
              "    <tr>\n",
              "      <th>8</th>\n",
              "      <td>4</td>\n",
              "      <td>1</td>\n",
              "      <td>0</td>\n",
              "      <td>0</td>\n",
              "      <td>0</td>\n",
              "      <td>0</td>\n",
              "      <td>0</td>\n",
              "      <td>0</td>\n",
              "    </tr>\n",
              "    <tr>\n",
              "      <th>9</th>\n",
              "      <td>3</td>\n",
              "      <td>0</td>\n",
              "      <td>0</td>\n",
              "      <td>0</td>\n",
              "      <td>0</td>\n",
              "      <td>0</td>\n",
              "      <td>1</td>\n",
              "      <td>1</td>\n",
              "    </tr>\n",
              "    <tr>\n",
              "      <th>10</th>\n",
              "      <td>3</td>\n",
              "      <td>0</td>\n",
              "      <td>0</td>\n",
              "      <td>1</td>\n",
              "      <td>0</td>\n",
              "      <td>1</td>\n",
              "      <td>0</td>\n",
              "      <td>0</td>\n",
              "    </tr>\n",
              "    <tr>\n",
              "      <th>11</th>\n",
              "      <td>0</td>\n",
              "      <td>1</td>\n",
              "      <td>0</td>\n",
              "      <td>0</td>\n",
              "      <td>0</td>\n",
              "      <td>1</td>\n",
              "      <td>1</td>\n",
              "      <td>1</td>\n",
              "    </tr>\n",
              "    <tr>\n",
              "      <th>12</th>\n",
              "      <td>4</td>\n",
              "      <td>0</td>\n",
              "      <td>0</td>\n",
              "      <td>0</td>\n",
              "      <td>0</td>\n",
              "      <td>1</td>\n",
              "      <td>0</td>\n",
              "      <td>1</td>\n",
              "    </tr>\n",
              "    <tr>\n",
              "      <th>13</th>\n",
              "      <td>3</td>\n",
              "      <td>1</td>\n",
              "      <td>1</td>\n",
              "      <td>0</td>\n",
              "      <td>0</td>\n",
              "      <td>0</td>\n",
              "      <td>0</td>\n",
              "      <td>0</td>\n",
              "    </tr>\n",
              "    <tr>\n",
              "      <th>14</th>\n",
              "      <td>3</td>\n",
              "      <td>1</td>\n",
              "      <td>1</td>\n",
              "      <td>0</td>\n",
              "      <td>0</td>\n",
              "      <td>0</td>\n",
              "      <td>0</td>\n",
              "      <td>0</td>\n",
              "    </tr>\n",
              "    <tr>\n",
              "      <th>15</th>\n",
              "      <td>4</td>\n",
              "      <td>1</td>\n",
              "      <td>0</td>\n",
              "      <td>1</td>\n",
              "      <td>0</td>\n",
              "      <td>0</td>\n",
              "      <td>0</td>\n",
              "      <td>0</td>\n",
              "    </tr>\n",
              "    <tr>\n",
              "      <th>16</th>\n",
              "      <td>3</td>\n",
              "      <td>0</td>\n",
              "      <td>0</td>\n",
              "      <td>1</td>\n",
              "      <td>0</td>\n",
              "      <td>0</td>\n",
              "      <td>0</td>\n",
              "      <td>0</td>\n",
              "    </tr>\n",
              "    <tr>\n",
              "      <th>17</th>\n",
              "      <td>0</td>\n",
              "      <td>0</td>\n",
              "      <td>0</td>\n",
              "      <td>0</td>\n",
              "      <td>0</td>\n",
              "      <td>0</td>\n",
              "      <td>1</td>\n",
              "      <td>1</td>\n",
              "    </tr>\n",
              "  </tbody>\n",
              "</table>\n",
              "</div>"
            ],
            "text/plain": [
              "    Highest Degree  English   ...  negotiations  Design and planning\n",
              "0                4         1  ...             0                    0\n",
              "1                3         1  ...             0                    0\n",
              "2                4         1  ...             0                    0\n",
              "3                2         1  ...             0                    0\n",
              "4                1         0  ...             0                    0\n",
              "5                4         1  ...             0                    0\n",
              "6                3         1  ...             1                    1\n",
              "7                3         1  ...             0                    0\n",
              "8                4         1  ...             0                    0\n",
              "9                3         0  ...             1                    1\n",
              "10               3         0  ...             0                    0\n",
              "11               0         1  ...             1                    1\n",
              "12               4         0  ...             0                    1\n",
              "13               3         1  ...             0                    0\n",
              "14               3         1  ...             0                    0\n",
              "15               4         1  ...             0                    0\n",
              "16               3         0  ...             0                    0\n",
              "17               0         0  ...             1                    1\n",
              "\n",
              "[18 rows x 8 columns]"
            ]
          },
          "metadata": {
            "tags": []
          },
          "execution_count": 24
        }
      ]
    },
    {
      "cell_type": "markdown",
      "metadata": {
        "id": "DQOPfTkyqtEr",
        "colab_type": "text"
      },
      "source": [
        "Desicion Tree classifier\n"
      ]
    },
    {
      "cell_type": "code",
      "metadata": {
        "id": "Y1nBxqZ9qv24",
        "colab_type": "code",
        "colab": {}
      },
      "source": [
        "clf = DecisionTreeClassifier()\n",
        "\n",
        "# Train Decision Tree Classifer\n",
        "clf = clf.fit(X_train,y_train)\n",
        "\n",
        "#Predict the response for test dataset\n",
        "y_pred = clf.predict(X_test)"
      ],
      "execution_count": 6,
      "outputs": []
    },
    {
      "cell_type": "markdown",
      "metadata": {
        "id": "RMdQE9LVxHf9",
        "colab_type": "text"
      },
      "source": [
        "*accuracy* for Decision Tree Classifier "
      ]
    },
    {
      "cell_type": "code",
      "metadata": {
        "id": "nTDSTNpPr451",
        "colab_type": "code",
        "colab": {
          "base_uri": "https://localhost:8080/",
          "height": 141
        },
        "outputId": "6e1e75e1-39f4-4e88-a2a0-116c57df1fe9"
      },
      "source": [
        "print(\"Accuracy:\",metrics.accuracy_score(y_test, y_pred))\n",
        "y_pred"
      ],
      "execution_count": 7,
      "outputs": [
        {
          "output_type": "stream",
          "text": [
            "Accuracy: 0.9758064516129032\n"
          ],
          "name": "stdout"
        },
        {
          "output_type": "execute_result",
          "data": {
            "text/plain": [
              "array([5, 4, 2, 2, 0, 0, 3, 1, 1, 1, 4, 5, 5, 2, 0, 1, 2, 4, 1, 3, 4, 5,\n",
              "       3, 0, 5, 0, 0, 3, 0, 5, 3, 3, 4, 2, 4, 1, 4, 5, 0, 3, 2, 0, 5, 2,\n",
              "       2, 0, 3, 4, 2, 0, 0, 3, 0, 0, 3, 1, 5, 0, 0, 2, 2, 3, 0, 3, 3, 2,\n",
              "       4, 5, 3, 5, 0, 0, 3, 4, 0, 2, 1, 2, 3, 5, 4, 1, 2, 0, 4, 0, 1, 3,\n",
              "       2, 4, 0, 0, 2, 2, 3, 4, 5, 3, 0, 5, 3, 2, 5, 3, 4, 0, 2, 4, 0, 0,\n",
              "       2, 4, 3, 5, 5, 1, 5, 3, 3, 3, 3, 4, 3, 5])"
            ]
          },
          "metadata": {
            "tags": []
          },
          "execution_count": 7
        }
      ]
    },
    {
      "cell_type": "markdown",
      "metadata": {
        "id": "wjhP_UNfq-ez",
        "colab_type": "text"
      },
      "source": [
        "Multinomial Naive Baiyes"
      ]
    },
    {
      "cell_type": "code",
      "metadata": {
        "id": "xWLFszrHqKxq",
        "colab_type": "code",
        "colab": {
          "base_uri": "https://localhost:8080/",
          "height": 123
        },
        "outputId": "c6d7c344-8e13-436a-ae5b-02ef4a92613a"
      },
      "source": [
        "from sklearn.naive_bayes import GaussianNB\n",
        "\n",
        "#Create a Gaussian Classifier\n",
        "gnb = GaussianNB()\n",
        "\n",
        "#Train the model using the training sets\n",
        "gnb.fit(X_train, y_train)\n",
        "\n",
        "#Predict the response for test dataset\n",
        "y_predwithnaive = gnb.predict(X_test)\n",
        "y_predwithnaive"
      ],
      "execution_count": 8,
      "outputs": [
        {
          "output_type": "execute_result",
          "data": {
            "text/plain": [
              "array([5, 4, 2, 0, 0, 0, 3, 1, 1, 1, 4, 5, 5, 2, 0, 1, 2, 4, 1, 0, 4, 5,\n",
              "       3, 0, 5, 0, 0, 3, 0, 5, 3, 0, 4, 2, 4, 1, 4, 5, 0, 3, 2, 0, 5, 2,\n",
              "       2, 0, 3, 4, 4, 0, 0, 0, 0, 0, 0, 1, 5, 0, 0, 2, 2, 0, 0, 3, 1, 2,\n",
              "       4, 5, 0, 5, 0, 0, 3, 4, 0, 2, 1, 0, 0, 5, 4, 1, 2, 0, 4, 0, 1, 0,\n",
              "       2, 4, 0, 0, 2, 2, 0, 4, 5, 0, 0, 5, 0, 2, 5, 3, 4, 0, 2, 4, 0, 0,\n",
              "       2, 4, 1, 5, 5, 1, 5, 0, 3, 1, 3, 4, 1, 5])"
            ]
          },
          "metadata": {
            "tags": []
          },
          "execution_count": 8
        }
      ]
    },
    {
      "cell_type": "markdown",
      "metadata": {
        "id": "dumtIbW7rPoS",
        "colab_type": "text"
      },
      "source": [
        "accuracy for naive bayes\n",
        "\n"
      ]
    },
    {
      "cell_type": "code",
      "metadata": {
        "id": "NscE9kSdrS9H",
        "colab_type": "code",
        "colab": {
          "base_uri": "https://localhost:8080/",
          "height": 141
        },
        "outputId": "f637cd0b-69d5-4b57-9736-d66f23f25270"
      },
      "source": [
        "print(\"Accuracy:\",metrics.accuracy_score(y_test, y_predwithnaive))\n",
        "y_predwithnaive"
      ],
      "execution_count": 9,
      "outputs": [
        {
          "output_type": "stream",
          "text": [
            "Accuracy: 0.8548387096774194\n"
          ],
          "name": "stdout"
        },
        {
          "output_type": "execute_result",
          "data": {
            "text/plain": [
              "array([5, 4, 2, 0, 0, 0, 3, 1, 1, 1, 4, 5, 5, 2, 0, 1, 2, 4, 1, 0, 4, 5,\n",
              "       3, 0, 5, 0, 0, 3, 0, 5, 3, 0, 4, 2, 4, 1, 4, 5, 0, 3, 2, 0, 5, 2,\n",
              "       2, 0, 3, 4, 4, 0, 0, 0, 0, 0, 0, 1, 5, 0, 0, 2, 2, 0, 0, 3, 1, 2,\n",
              "       4, 5, 0, 5, 0, 0, 3, 4, 0, 2, 1, 0, 0, 5, 4, 1, 2, 0, 4, 0, 1, 0,\n",
              "       2, 4, 0, 0, 2, 2, 0, 4, 5, 0, 0, 5, 0, 2, 5, 3, 4, 0, 2, 4, 0, 0,\n",
              "       2, 4, 1, 5, 5, 1, 5, 0, 3, 1, 3, 4, 1, 5])"
            ]
          },
          "metadata": {
            "tags": []
          },
          "execution_count": 9
        }
      ]
    },
    {
      "cell_type": "markdown",
      "metadata": {
        "id": "bvZEYUunsOD0",
        "colab_type": "text"
      },
      "source": [
        "Knn classifier"
      ]
    },
    {
      "cell_type": "code",
      "metadata": {
        "id": "PO_8Ku3DrgMm",
        "colab_type": "code",
        "colab": {
          "base_uri": "https://localhost:8080/",
          "height": 123
        },
        "outputId": "1d451bf0-a80e-4c7e-be68-ecf094263dfe"
      },
      "source": [
        "from sklearn.neighbors import KNeighborsClassifier\n",
        "\n",
        "#Create KNN Classifier\n",
        "knn = KNeighborsClassifier(n_neighbors=2)\n",
        "\n",
        "#Train the model using the training sets\n",
        "knn.fit(X_train, y_train)\n",
        "\n",
        "#Predict the response for test dataset\n",
        "y_predwithknn = knn.predict(X_test)\n",
        "y_predwithknn"
      ],
      "execution_count": 33,
      "outputs": [
        {
          "output_type": "execute_result",
          "data": {
            "text/plain": [
              "array([5, 4, 2, 2, 0, 0, 3, 1, 1, 1, 4, 5, 5, 2, 0, 1, 2, 4, 1, 3, 4, 5,\n",
              "       3, 0, 5, 0, 0, 3, 0, 5, 3, 3, 4, 2, 4, 1, 4, 5, 0, 3, 2, 0, 5, 2,\n",
              "       2, 0, 3, 4, 2, 0, 0, 3, 0, 0, 0, 1, 5, 0, 0, 2, 2, 3, 0, 3, 3, 2,\n",
              "       4, 5, 0, 5, 0, 0, 3, 4, 0, 2, 1, 2, 3, 5, 4, 1, 2, 0, 4, 0, 1, 3,\n",
              "       2, 4, 0, 0, 2, 2, 0, 4, 5, 3, 0, 5, 3, 2, 5, 3, 4, 0, 2, 4, 0, 0,\n",
              "       2, 4, 3, 5, 5, 1, 5, 3, 3, 3, 3, 4, 3, 5])"
            ]
          },
          "metadata": {
            "tags": []
          },
          "execution_count": 33
        }
      ]
    },
    {
      "cell_type": "markdown",
      "metadata": {
        "id": "nTUk5VGyslu_",
        "colab_type": "text"
      },
      "source": [
        "Accuracy with knn classifier"
      ]
    },
    {
      "cell_type": "code",
      "metadata": {
        "id": "Ovr0VzmxspKz",
        "colab_type": "code",
        "colab": {
          "base_uri": "https://localhost:8080/",
          "height": 141
        },
        "outputId": "31762f54-9998-40c7-9521-0f693b73d55d"
      },
      "source": [
        "print(\"Accuracy:\",metrics.accuracy_score(y_test, y_predwithknn))\n",
        "y_predwithknn"
      ],
      "execution_count": 34,
      "outputs": [
        {
          "output_type": "stream",
          "text": [
            "Accuracy: 0.9516129032258065\n"
          ],
          "name": "stdout"
        },
        {
          "output_type": "execute_result",
          "data": {
            "text/plain": [
              "array([5, 4, 2, 2, 0, 0, 3, 1, 1, 1, 4, 5, 5, 2, 0, 1, 2, 4, 1, 3, 4, 5,\n",
              "       3, 0, 5, 0, 0, 3, 0, 5, 3, 3, 4, 2, 4, 1, 4, 5, 0, 3, 2, 0, 5, 2,\n",
              "       2, 0, 3, 4, 2, 0, 0, 3, 0, 0, 0, 1, 5, 0, 0, 2, 2, 3, 0, 3, 3, 2,\n",
              "       4, 5, 0, 5, 0, 0, 3, 4, 0, 2, 1, 2, 3, 5, 4, 1, 2, 0, 4, 0, 1, 3,\n",
              "       2, 4, 0, 0, 2, 2, 0, 4, 5, 3, 0, 5, 3, 2, 5, 3, 4, 0, 2, 4, 0, 0,\n",
              "       2, 4, 3, 5, 5, 1, 5, 3, 3, 3, 3, 4, 3, 5])"
            ]
          },
          "metadata": {
            "tags": []
          },
          "execution_count": 34
        }
      ]
    },
    {
      "cell_type": "markdown",
      "metadata": {
        "id": "Cppt5M27tJMs",
        "colab_type": "text"
      },
      "source": [
        "Random forest classifier"
      ]
    },
    {
      "cell_type": "code",
      "metadata": {
        "id": "JVbRB9f9tGDZ",
        "colab_type": "code",
        "colab": {
          "base_uri": "https://localhost:8080/",
          "height": 123
        },
        "outputId": "637e8b26-7d01-4c0f-b457-d49c14862d9a"
      },
      "source": [
        "from sklearn.ensemble import RandomForestClassifier\n",
        "\n",
        "#Create a Gaussian Classifier\n",
        "rand=RandomForestClassifier(n_estimators=20)\n",
        "\n",
        "#Train the model using the training sets y_pred=clf.predict(X_test)\n",
        "rand.fit(X_train,y_train)\n",
        "\n",
        "y_predwithrand=rand.predict(X_test)\n",
        "y_predwithrand"
      ],
      "execution_count": 18,
      "outputs": [
        {
          "output_type": "execute_result",
          "data": {
            "text/plain": [
              "array([5, 4, 2, 2, 0, 0, 3, 1, 1, 1, 4, 5, 5, 2, 0, 1, 2, 4, 1, 3, 4, 5,\n",
              "       3, 0, 5, 0, 0, 3, 0, 5, 3, 3, 4, 2, 4, 1, 4, 5, 0, 3, 2, 0, 5, 2,\n",
              "       2, 0, 3, 4, 2, 0, 0, 3, 0, 0, 3, 1, 5, 0, 0, 2, 2, 3, 0, 3, 3, 2,\n",
              "       4, 5, 3, 5, 0, 0, 3, 4, 0, 2, 1, 0, 3, 5, 4, 1, 2, 0, 4, 0, 1, 3,\n",
              "       2, 4, 0, 0, 2, 2, 3, 4, 5, 3, 0, 5, 3, 2, 5, 3, 4, 0, 2, 4, 0, 0,\n",
              "       2, 4, 3, 5, 5, 1, 5, 3, 3, 3, 3, 4, 3, 5])"
            ]
          },
          "metadata": {
            "tags": []
          },
          "execution_count": 18
        }
      ]
    },
    {
      "cell_type": "code",
      "metadata": {
        "id": "PwYfNMd5tyz4",
        "colab_type": "code",
        "colab": {
          "base_uri": "https://localhost:8080/",
          "height": 141
        },
        "outputId": "05cf6e4b-15a7-4f27-fddb-cb2064ff11b8"
      },
      "source": [
        "print(\"Accuracy:\",metrics.accuracy_score(y_test, y_predwithrand))\n",
        "y_predwithrand"
      ],
      "execution_count": 19,
      "outputs": [
        {
          "output_type": "stream",
          "text": [
            "Accuracy: 0.9838709677419355\n"
          ],
          "name": "stdout"
        },
        {
          "output_type": "execute_result",
          "data": {
            "text/plain": [
              "array([5, 4, 2, 2, 0, 0, 3, 1, 1, 1, 4, 5, 5, 2, 0, 1, 2, 4, 1, 3, 4, 5,\n",
              "       3, 0, 5, 0, 0, 3, 0, 5, 3, 3, 4, 2, 4, 1, 4, 5, 0, 3, 2, 0, 5, 2,\n",
              "       2, 0, 3, 4, 2, 0, 0, 3, 0, 0, 3, 1, 5, 0, 0, 2, 2, 3, 0, 3, 3, 2,\n",
              "       4, 5, 3, 5, 0, 0, 3, 4, 0, 2, 1, 0, 3, 5, 4, 1, 2, 0, 4, 0, 1, 3,\n",
              "       2, 4, 0, 0, 2, 2, 3, 4, 5, 3, 0, 5, 3, 2, 5, 3, 4, 0, 2, 4, 0, 0,\n",
              "       2, 4, 3, 5, 5, 1, 5, 3, 3, 3, 3, 4, 3, 5])"
            ]
          },
          "metadata": {
            "tags": []
          },
          "execution_count": 19
        }
      ]
    }
  ]
}